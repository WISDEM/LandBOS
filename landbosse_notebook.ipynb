{
 "cells": [
  {
   "cell_type": "markdown",
   "id": "5a28fe3d",
   "metadata": {},
   "source": [
    "# <center>Setup LandBOSSE</center>"
   ]
  },
  {
   "cell_type": "code",
   "execution_count": 73,
   "id": "9181c91f",
   "metadata": {},
   "outputs": [],
   "source": [
    "import os\n",
    "from datetime import datetime\n",
    "import csv\n",
    "import matplotlib.pyplot as plt\n",
    "import pandas as pd\n",
    "\n",
    "from landbosse.excelio import XlsxSerialManagerRunner\n",
    "from landbosse.excelio import XlsxParallelManagerRunner\n",
    "from landbosse.excelio import XlsxGenerator\n",
    "from landbosse.excelio import XlsxValidator\n",
    "from landbosse.excelio import CsvGenerator\n",
    "\n",
    "# When not running Binder and you want to provide your own input data, set_path to False:\n",
    "set_path = True\n",
    "\n",
    "# When running Binder set to True\n",
    "running_binder = False\n",
    "\n",
    "# LandBOSSE, small utility functions\n",
    "from landbosse.excelio import XlsxFileOperations\n",
    "if running_binder == True:\n",
    "    binder_dir = os.path.join(os.getcwd(), 'jovyan')\n",
    "    input_output_path = os.path.dirname(binder_dir)\n",
    "else: \n",
    "    if set_path:\n",
    "        input_output_path = '~/Desktop/'\n",
    "    else:\n",
    "        input_output_path = os.path.dirname(os.path.join(os.getcwd(), 'input'))\n",
    "\n",
    "os.environ[\"LANDBOSSE_INPUT_DIR\"] = input_output_path"
   ]
  },
  {
   "cell_type": "markdown",
   "id": "476e5446",
   "metadata": {},
   "source": [
    "<br/><br/>\n",
    "# <center>Run LandBOSSE</center>"
   ]
  },
  {
   "cell_type": "code",
   "execution_count": 74,
   "id": "dc08b4f4",
   "metadata": {},
   "outputs": [
    {
     "name": "stdout",
     "output_type": "stream",
     "text": [
      ">>>>>>>> Begin run 2022-08-01 15:57:21.276987 <<<<<<<<<<\n",
      "\n",
      ">>> project_id: ge15_dist_165\n",
      ">>> Project data: ~/Desktop/project_data/ge15_public.xlsx\n",
      "\n",
      "Simulation Successful!\n"
     ]
    }
   ],
   "source": [
    "if __name__ == '__main__':\n",
    "    # Print start timestamp\n",
    "    print(f'>>>>>>>> Begin run {datetime.now()} <<<<<<<<<<')\n",
    "\n",
    "    # The file_ops object handles file names for input and output data.\n",
    "    file_ops = XlsxFileOperations()\n",
    "\n",
    "    run_parallel = False\n",
    "    manager_runner = XlsxParallelManagerRunner(file_ops) if run_parallel else XlsxSerialManagerRunner(file_ops)\n",
    "\n",
    "    # project_xlsx is the absolute path of the project_list.xlsx\n",
    "    projects_xlsx = os.path.join(file_ops.landbosse_input_dir(), 'project_list.xlsx')\n",
    "\n",
    "    validation_enabled = False\n",
    "    \n",
    "    # final_result aggregates all the results from all the projects.\n",
    "    final_result = manager_runner.run_from_project_list_xlsx(projects_xlsx, validation_enabled)\n",
    "\n",
    "    print('Simulation Successful!')\n",
    "#     print('Results: ')\n",
    "#     print('')"
   ]
  },
  {
   "cell_type": "markdown",
   "id": "b82e8655",
   "metadata": {},
   "source": [
    "<br/><br/>\n",
    "# <center>Collect BOS CapEx Results</center>"
   ]
  },
  {
   "cell_type": "code",
   "execution_count": 75,
   "id": "e6099b13",
   "metadata": {},
   "outputs": [
    {
     "name": "stdout",
     "output_type": "stream",
     "text": [
      "Plant Size MW:  150.0\n",
      "Collection Cost ($/kW):  46\n",
      "Development Cost ($/kW):  1\n",
      "Erection Cost ($/kW):  41\n",
      "Foundation Cost ($/kW):  68\n",
      "Grid Connection Cost ($/kW):  0\n",
      "Management Cost ($/kW):  10\n",
      "Site Preparation Cost ($/kW):  31\n",
      "Substation Cost ($/kW):  23\n",
      "\n"
     ]
    }
   ],
   "source": [
    "    # print(final_result)\n",
    "    total_collection_cost = final_result['jp_collectioncost_total']\n",
    "    total_development_cost = final_result['jp_developmentcost_total']\n",
    "    total_erection_cost = final_result['jp_erectioncost_total']\n",
    "    total_foundation_cost = final_result['jp_foundationcost_total']\n",
    "    total_gridconnection_cost = final_result['jp_gridconnectioncost_total']\n",
    "    total_management_cost = final_result['total_management_cost']\n",
    "    total_sitepreparation_cost = final_result['jp_sitepreperationcost_total']\n",
    "    total_substation_cost = final_result['jp_substationcost_total']\n",
    "\n",
    "    total_bos_cost = \\\n",
    "        total_collection_cost + \\\n",
    "        total_development_cost + \\\n",
    "        total_erection_cost + \\\n",
    "        total_foundation_cost + \\\n",
    "        total_gridconnection_cost + \\\n",
    "        total_management_cost + \\\n",
    "        total_sitepreparation_cost + \\\n",
    "        total_substation_cost\n",
    "    \n",
    "    plant_capacity_kW = final_result['plant_capacity_MW'] * 1000\n",
    "        \n",
    "    total_bos_cost_kW = total_bos_cost / plant_capacity_kW\n",
    "    \n",
    "    print('Plant Size MW: ', final_result['plant_capacity_MW'])\n",
    "    \n",
    "    print('Collection Cost ($/kW): ', round(total_collection_cost / plant_capacity_kW))\n",
    "    print('Development Cost ($/kW): ', round(total_development_cost / plant_capacity_kW))\n",
    "    print('Erection Cost ($/kW): ', round(total_erection_cost / plant_capacity_kW))\n",
    "    print('Foundation Cost ($/kW): ', round(total_foundation_cost / plant_capacity_kW))\n",
    "    print('Grid Connection Cost ($/kW): ', round(total_gridconnection_cost / plant_capacity_kW))\n",
    "    print('Management Cost ($/kW): ', round(total_management_cost / plant_capacity_kW))\n",
    "    print('Site Preparation Cost ($/kW): ', round(total_sitepreparation_cost / plant_capacity_kW))\n",
    "    print('Substation Cost ($/kW): ', round(total_substation_cost / plant_capacity_kW))\n",
    "    print('')\n",
    "   \n",
    "    "
   ]
  },
  {
   "cell_type": "markdown",
   "id": "feda8e6b",
   "metadata": {},
   "source": [
    "<br/><br/>\n",
    "# <center>Collect Financial CapEx Results</center>"
   ]
  },
  {
   "cell_type": "code",
   "execution_count": 76,
   "id": "c7c094b3",
   "metadata": {},
   "outputs": [],
   "source": [
    "    ## Financial CapEx breakdown: \n",
    "    financial_costs_kW = 122 \n",
    "    construction_financing_cost = 34\n",
    "    contingency_fund = 88"
   ]
  },
  {
   "cell_type": "markdown",
   "id": "68155d4e",
   "metadata": {},
   "source": [
    "<br/><br/>\n",
    "# <center>Collect Turbine CapEx Results</center>"
   ]
  },
  {
   "cell_type": "code",
   "execution_count": 77,
   "id": "eda3e523",
   "metadata": {},
   "outputs": [
    {
     "name": "stdout",
     "output_type": "stream",
     "text": [
      "Total BOS CapEx ($/kW):  220\n",
      "Financial Costs ($/kW):  122\n",
      "Turbine CapEx ($/kW):  1021\n",
      "Total Project CapEx ($/kW):  1363\n"
     ]
    }
   ],
   "source": [
    "    ## Turbine CapEx breakdown: \n",
    "    turbine_capex_kW = 1021\n",
    "    \n",
    "    # Rotor cost and breakdown:\n",
    "    rotor_cost = 311\n",
    "    pitch_assembly = 201\n",
    "    hub_assembly = 47\n",
    "    \n",
    "    # Nacelle cost and breakdown: \n",
    "    nacelle_module = 508\n",
    "    nacelle_structural_assembly = 102\n",
    "    drivetrain_assembly = 203\n",
    "    nacelle_electrical_assembly = 164\n",
    "    yaw_assembly = 38\n",
    "    \n",
    "    # Tower cost\n",
    "    tower_module = 203\n",
    "    \n",
    "    print('Total BOS CapEx ($/kW): ', round(total_bos_cost_kW))\n",
    "    print('Financial Costs ($/kW): ', financial_costs_kW)    \n",
    "    print('Turbine CapEx ($/kW): ', turbine_capex_kW)\n",
    "    print('Total Project CapEx ($/kW): ', round(total_bos_cost_kW + financial_costs_kW + turbine_capex_kW))"
   ]
  },
  {
   "cell_type": "markdown",
   "id": "8232ea9d",
   "metadata": {},
   "source": [
    "<br/><br/>\n",
    "# <center>Collect OpEx, FCR, Net AEP, LCOE, and CF Costs</center>"
   ]
  },
  {
   "cell_type": "code",
   "execution_count": 78,
   "id": "ff605a47",
   "metadata": {},
   "outputs": [],
   "source": [
    "opex_usd_kw_yr = 43    # User Input - Cost obtained from LBNL Market Report from LBW (could be replaced w/ WOMBAT in the future)\n",
    "fcr = 5.78    # User Input - Obtained from LBNL \n",
    "net_aep = 3703    # From SAM (losses = 16.1% - Availability Losses)\n",
    "net_cf = 42.3    # From SAM (losses = 16.1% - Availability Losses)\n",
    "lcoe = 34    # From SAM (losses = 16.1% - Availability Losses)"
   ]
  },
  {
   "cell_type": "markdown",
   "id": "6ae60591",
   "metadata": {},
   "source": [
    "<br/><br/>\n",
    "# <center>Figure ES1. Donut Plot - CapEx for the land-based reference wind power plant project</center>"
   ]
  },
  {
   "cell_type": "code",
   "execution_count": 79,
   "id": "a41e0183",
   "metadata": {},
   "outputs": [
    {
     "data": {
      "text/plain": [
       "([<matplotlib.patches.Wedge at 0x7ff821ab8390>,\n",
       "  <matplotlib.patches.Wedge at 0x7ff82234ac10>,\n",
       "  <matplotlib.patches.Wedge at 0x7ff8227daa10>],\n",
       " [Text(-0.4681374893040258, -0.4652389612963677, ''),\n",
       "  Text(0.6352075440019048, 0.17919647329975052, ''),\n",
       "  Text(0.32065865284300266, 0.5768691605181462, '')],\n",
       " [Text(-0.5319744196636658, -0.5286806378367814, '74.9%'),\n",
       "  Text(0.721826754547619, 0.20363235602244378, '8.9%'),\n",
       "  Text(0.3643848327761394, 0.6555331369524389, '16.1%')])"
      ]
     },
     "execution_count": 79,
     "metadata": {},
     "output_type": "execute_result"
    },
    {
     "data": {
      "image/png": "[encoded data removed]",
      "text/plain": [
       "<Figure size 720x720 with 1 Axes>"
      ]
     },
     "metadata": {},
     "output_type": "display_data"
    }
   ],
   "source": [
    "#     # Plot\n",
    "#     start_angle = -180\n",
    "#     plt.figure(figsize=(10,10))\n",
    "#     names = ['Rotor', 'Nacelle', 'Tower', 'Contingency', 'Construction Finance', 'BOS CapEx']\n",
    "#     size = [rotor_cost, nacelle_module, tower_module, contingency_fund, construction_financing_cost, total_bos_cost_kW]\n",
    "\n",
    "#     plt.pie(size, labels = names, \n",
    "#            startangle=start_angle,\n",
    "#            autopct = '%1.1f%%', pctdistance = 0.9,\n",
    "#             colors = 'none',\n",
    "#             radius= 1.0, \n",
    "#             labeldistance=1.1,\n",
    "#             textprops ={'fontweight': 'bold', 'fontsize':13, 'color': \"black\"},\n",
    "#             wedgeprops = {'linewidth' : 3, 'edgecolor' : \"black\" }) \n",
    "\n",
    "#     no_color = 'w'\n",
    "#     plt.pie(size, labels = names, \n",
    "#             startangle=start_angle,\n",
    "#             autopct = '%1.1f%%', pctdistance = 0.9,\n",
    "#             colors = [no_color],\n",
    "#             radius= 1.0, \n",
    "#             labeldistance=1.1,\n",
    "#             textprops={'fontweight': 'bold', 'fontsize':13, 'color': \"white\"},\n",
    "#             wedgeprops = {'linewidth' : 3, 'edgecolor' : \"black\" }) \n",
    "    \n",
    "#     # Internal Pies\n",
    "#     sub_names = ['Turbine CapEx', 'Financial CapEx', 'BOS CapEx']\n",
    "#     a = 'white'\n",
    "#     sub_size = [turbine_capex_kW, financial_costs_kW, total_bos_cost_kW]\n",
    "    \n",
    "    \n",
    "#     plt.pie(sub_size,startangle=start_angle, pctdistance =1.25, \n",
    "# #             autopct = '%1.1f%%',\n",
    "#             radius= 0.60, colors=[a, a, a],\n",
    "#             textprops ={'fontweight': 'bold' ,'fontsize':13, 'color': \"white\"}, \n",
    "#             wedgeprops = {'linewidth' : 3, 'edgecolor' : \"black\" } )\n",
    "    \n",
    "    \n",
    "#     plt.pie(sub_size,\n",
    "#             startangle=start_angle, \n",
    "# #             labeldistance =0.65, labels = sub_names,\n",
    "#             radius= 0.60, colors=[a, a, a],\n",
    "#             textprops ={'fontweight': 'bold' ,'fontsize':10, 'color': \"black\"}, \n",
    "#             wedgeprops = {'linewidth' : 3, 'edgecolor' : \"black\" } )\n",
    " \n",
    "#     # show it\n",
    "#     plt.show()\n",
    "# Plot\n",
    "plt.figure(figsize=(10,10))\n",
    "names = ['Turbine CapEx', 'Financial CapEx', 'BOS CapEx']\n",
    "size = [turbine_capex_kW, financial_costs_kW, total_bos_cost_kW]\n",
    "plt.pie(size, labels = names, \n",
    "           startangle=90,\n",
    "           radius= 1.0, labeldistance=1.1,\n",
    "           textprops ={'fontweight': 'bold', 'fontsize':13, 'color': \"black\"},\n",
    "           wedgeprops = {'linewidth' : 3, 'edgecolor' : \"black\" }) \n",
    "    \n",
    "a = 'white'\n",
    "plt.pie(size,startangle=90, pctdistance =1.25, autopct = '%1.1f%%',\n",
    "        radius= 0.60, colors=[a, a, a],\n",
    "       textprops ={'fontweight': 'bold' ,'fontsize':13, 'color': \"white\"}, \n",
    "       wedgeprops = {'linewidth' : 3, 'edgecolor' : \"black\" } )"
   ]
  },
  {
   "cell_type": "markdown",
   "id": "23bbd806",
   "metadata": {},
   "source": [
    "<br/><br/>\n",
    "# <center>Table ES1. Summary of the Land-Based Reference Project Using 2.8-megawatt (MW) Wind Turbines"
   ]
  },
  {
   "cell_type": "code",
   "execution_count": 80,
   "id": "73bc30de",
   "metadata": {},
   "outputs": [
    {
     "data": {
      "text/html": [
       "<div>\n",
       "<style scoped>\n",
       "    .dataframe tbody tr th:only-of-type {\n",
       "        vertical-align: middle;\n",
       "    }\n",
       "\n",
       "    .dataframe tbody tr th {\n",
       "        vertical-align: top;\n",
       "    }\n",
       "\n",
       "    .dataframe thead tr th {\n",
       "        text-align: left;\n",
       "    }\n",
       "</style>\n",
       "<table border=\"1\" class=\"dataframe\">\n",
       "  <thead>\n",
       "    <tr>\n",
       "      <th></th>\n",
       "      <th>2.8-MW Land-Based Wind Turbine</th>\n",
       "      <th>8.0-MW Offshore Wind Turbine</th>\n",
       "      <th>8.0-MW Floating Offshore Wind Turbine</th>\n",
       "      <th>20-kW Residential Wind Turbine</th>\n",
       "      <th>100-kW Commercial Wind Turbine</th>\n",
       "    </tr>\n",
       "    <tr>\n",
       "      <th></th>\n",
       "      <th>($/kilowatt [kW])</th>\n",
       "      <th>($/kilowatt [kW])</th>\n",
       "      <th>($/kilowatt [kW])</th>\n",
       "      <th>($/kilowatt [kW])</th>\n",
       "      <th>($/kilowatt [kW])</th>\n",
       "    </tr>\n",
       "  </thead>\n",
       "  <tbody>\n",
       "    <tr>\n",
       "      <th>Turbine Capital Cost (CapEx)</th>\n",
       "      <td>1021</td>\n",
       "      <td>Pending</td>\n",
       "      <td>Pending</td>\n",
       "      <td>Pending</td>\n",
       "      <td>Pending</td>\n",
       "    </tr>\n",
       "    <tr>\n",
       "      <th>Balance of System (BOS CapEx)</th>\n",
       "      <td>220</td>\n",
       "      <td>Pending</td>\n",
       "      <td>Pending</td>\n",
       "      <td>Pending</td>\n",
       "      <td>Pending</td>\n",
       "    </tr>\n",
       "    <tr>\n",
       "      <th>Financial Cost (Financial CapEx)</th>\n",
       "      <td>122</td>\n",
       "      <td>Pending</td>\n",
       "      <td>Pending</td>\n",
       "      <td>Pending</td>\n",
       "      <td>Pending</td>\n",
       "    </tr>\n",
       "    <tr>\n",
       "      <th></th>\n",
       "      <td></td>\n",
       "      <td></td>\n",
       "      <td></td>\n",
       "      <td></td>\n",
       "      <td></td>\n",
       "    </tr>\n",
       "    <tr>\n",
       "      <th>OpEx ($/kW/yr)</th>\n",
       "      <td>43</td>\n",
       "      <td>Pending</td>\n",
       "      <td>Pending</td>\n",
       "      <td>Pending</td>\n",
       "      <td>Pending</td>\n",
       "    </tr>\n",
       "    <tr>\n",
       "      <th>FCR (real) [%]</th>\n",
       "      <td>5.78</td>\n",
       "      <td>Pending</td>\n",
       "      <td>Pending</td>\n",
       "      <td>Pending</td>\n",
       "      <td>Pending</td>\n",
       "    </tr>\n",
       "    <tr>\n",
       "      <th>Net Annual Energy Production (MWh/MW/yr)</th>\n",
       "      <td>3703</td>\n",
       "      <td>Pending</td>\n",
       "      <td>Pending</td>\n",
       "      <td>Pending</td>\n",
       "      <td>Pending</td>\n",
       "    </tr>\n",
       "    <tr>\n",
       "      <th>Net Capacity Factor (%)</th>\n",
       "      <td>42.3</td>\n",
       "      <td>Pending</td>\n",
       "      <td>Pending</td>\n",
       "      <td>Pending</td>\n",
       "      <td>Pending</td>\n",
       "    </tr>\n",
       "    <tr>\n",
       "      <th>LCOE ($/MWh)</th>\n",
       "      <td>34</td>\n",
       "      <td>Pending</td>\n",
       "      <td>Pending</td>\n",
       "      <td>Pending</td>\n",
       "      <td>Pending</td>\n",
       "    </tr>\n",
       "  </tbody>\n",
       "</table>\n",
       "</div>"
      ],
      "text/plain": [
       "                                         2.8-MW Land-Based Wind Turbine  \\\n",
       "                                                      ($/kilowatt [kW])   \n",
       "Turbine Capital Cost (CapEx)                                       1021   \n",
       "Balance of System (BOS CapEx)                                       220   \n",
       "Financial Cost (Financial CapEx)                                    122   \n",
       "                                                                          \n",
       "OpEx ($/kW/yr)                                                       43   \n",
       "FCR (real) [%]                                                     5.78   \n",
       "Net Annual Energy Production (MWh/MW/yr)                           3703   \n",
       "Net Capacity Factor (%)                                            42.3   \n",
       "LCOE ($/MWh)                                                         34   \n",
       "\n",
       "                                         8.0-MW Offshore Wind Turbine  \\\n",
       "                                                    ($/kilowatt [kW])   \n",
       "Turbine Capital Cost (CapEx)                                  Pending   \n",
       "Balance of System (BOS CapEx)                                 Pending   \n",
       "Financial Cost (Financial CapEx)                              Pending   \n",
       "                                                                        \n",
       "OpEx ($/kW/yr)                                                Pending   \n",
       "FCR (real) [%]                                                Pending   \n",
       "Net Annual Energy Production (MWh/MW/yr)                      Pending   \n",
       "Net Capacity Factor (%)                                       Pending   \n",
       "LCOE ($/MWh)                                                  Pending   \n",
       "\n",
       "                                         8.0-MW Floating Offshore Wind Turbine  \\\n",
       "                                                             ($/kilowatt [kW])   \n",
       "Turbine Capital Cost (CapEx)                                           Pending   \n",
       "Balance of System (BOS CapEx)                                          Pending   \n",
       "Financial Cost (Financial CapEx)                                       Pending   \n",
       "                                                                                 \n",
       "OpEx ($/kW/yr)                                                         Pending   \n",
       "FCR (real) [%]                                                         Pending   \n",
       "Net Annual Energy Production (MWh/MW/yr)                               Pending   \n",
       "Net Capacity Factor (%)                                                Pending   \n",
       "LCOE ($/MWh)                                                           Pending   \n",
       "\n",
       "                                         20-kW Residential Wind Turbine  \\\n",
       "                                                      ($/kilowatt [kW])   \n",
       "Turbine Capital Cost (CapEx)                                    Pending   \n",
       "Balance of System (BOS CapEx)                                   Pending   \n",
       "Financial Cost (Financial CapEx)                                Pending   \n",
       "                                                                          \n",
       "OpEx ($/kW/yr)                                                  Pending   \n",
       "FCR (real) [%]                                                  Pending   \n",
       "Net Annual Energy Production (MWh/MW/yr)                        Pending   \n",
       "Net Capacity Factor (%)                                         Pending   \n",
       "LCOE ($/MWh)                                                    Pending   \n",
       "\n",
       "                                         100-kW Commercial Wind Turbine  \n",
       "                                                      ($/kilowatt [kW])  \n",
       "Turbine Capital Cost (CapEx)                                    Pending  \n",
       "Balance of System (BOS CapEx)                                   Pending  \n",
       "Financial Cost (Financial CapEx)                                Pending  \n",
       "                                                                         \n",
       "OpEx ($/kW/yr)                                                  Pending  \n",
       "FCR (real) [%]                                                  Pending  \n",
       "Net Annual Energy Production (MWh/MW/yr)                        Pending  \n",
       "Net Capacity Factor (%)                                         Pending  \n",
       "LCOE ($/MWh)                                                    Pending  "
      ]
     },
     "metadata": {},
     "output_type": "display_data"
    }
   ],
   "source": [
    "import pandas as pd\n",
    "\n",
    "column_names = pd.DataFrame([[\"2.8-MW Land-Based Wind Turbine\", \"($/kilowatt [kW])\"], \n",
    "                             [\"8.0-MW Offshore Wind Turbine\", \"($/kilowatt [kW])\"], \n",
    "                             [\"8.0-MW Floating Offshore Wind Turbine\", \"($/kilowatt [kW])\"], \n",
    "                             [\"20-kW Residential Wind Turbine\", \"($/kilowatt [kW])\"], \n",
    "                             [\"100-kW Commercial Wind Turbine\", \"($/kilowatt [kW])\"]], \n",
    "                             columns=[\"\", \"\"])\n",
    "na = \"Pending\" \n",
    "rows = [[turbine_capex_kW, na, na, na, na],\n",
    "        [round(total_bos_cost_kW), na, na, na, na],\n",
    "        [financial_costs_kW, na, na, na, na],\n",
    "        [\"\", \"\", \"\", \"\", \"\"],        \n",
    "        [opex_usd_kw_yr, na, na, na, na],         \n",
    "        [fcr, na, na, na, na],\n",
    "        [net_aep, na, na, na, na],        \n",
    "        [net_cf, na, na, na, na],         \n",
    "        [lcoe, na, na, na, na]]\n",
    "\n",
    "columns = pd.MultiIndex.from_frame(column_names)\n",
    "index = [\"Turbine Capital Cost (CapEx)\",\n",
    "         \"Balance of System (BOS CapEx)\",\n",
    "         \"Financial Cost (Financial CapEx)\",\n",
    "         \"  \",\n",
    "         \"OpEx ($/kW/yr)\",\n",
    "         \"FCR (real) [%]\",\n",
    "         \"Net Annual Energy Production (MWh/MW/yr)\",\n",
    "         \"Net Capacity Factor (%)\",\n",
    "         \"LCOE ($/MWh)\"\n",
    "        ]\n",
    "\n",
    "df = pd.DataFrame(rows, columns=columns, index=index)\n",
    "\n",
    "# def highlight_max(x):\n",
    "#     return ['font-weight: bold' if v == x.loc[4] else ''\n",
    "#                 for v in x]\n",
    "\n",
    "# df.style.apply(highlight_max)\n",
    "\n",
    "display(df)\n"
   ]
  },
  {
   "cell_type": "markdown",
   "id": "eb7add2c",
   "metadata": {},
   "source": [
    "<br/><br/>\n",
    "# <center>Figure ES5. Land-based wind power plant assumptions and ranges for key LCOE input parameters."
   ]
  },
  {
   "cell_type": "code",
   "execution_count": 150,
   "id": "82275f59",
   "metadata": {},
   "outputs": [
    {
     "data": {
      "application/vnd.plotly.v1+json": {
       "config": {
        "plotlyServerURL": "https://plot.ly"
       },
       "data": [
        {
         "base": 34,
         "marker": {
          "color": [
           "rgb(51,153,255)",
           "rgb(102, 166, 30)",
           "rgb(230, 131, 16)",
           "rgb(153, 153, 153)",
           "rgb(51, 34, 136)"
          ],
          "colorscale": [
           [
            0,
            "rgb(51,153,255)"
           ],
           [
            0.25,
            "rgb(102, 166, 30)"
           ],
           [
            0.5,
            "rgb(230, 131, 16)"
           ],
           [
            0.75,
            "rgb(153, 153, 153)"
           ],
           [
            1,
            "rgb(51, 34, 136)"
           ]
          ],
          "line": {
           "width": 1.5
          }
         },
         "orientation": "h",
         "text": [
          "15",
          "6.3",
          "24",
          "60",
          "2000"
         ],
         "textfont": {
          "color": "white"
         },
         "textposition": "auto",
         "type": "bar",
         "x": [
          11,
          3,
          26,
          6,
          8
         ],
         "y": [
          "Project Design Life (years)",
          "Discount Rate (nominal) [%]",
          "Net Capacity Factor (%)",
          "OpEx ($/kW/yr)",
          "CapEx ($/kW)"
         ]
        },
        {
         "base": 34,
         "marker": {
          "color": [
           "rgb(51,153,255)",
           "rgb(102, 166, 30)",
           "rgb(230, 131, 16)",
           "rgb(153, 153, 153)",
           "rgb(51, 34, 136)"
          ],
          "colorscale": [
           [
            0,
            "rgb(51,153,255)"
           ],
           [
            0.25,
            "rgb(102, 166, 30)"
           ],
           [
            0.5,
            "rgb(230, 131, 16)"
           ],
           [
            0.75,
            "rgb(153, 153, 153)"
           ],
           [
            1,
            "rgb(51, 34, 136)"
           ]
          ]
         },
         "orientation": "h",
         "text": [
          "25",
          "5.2",
          "42.3",
          "43",
          "1462"
         ],
         "textfont": {
          "color": "white"
         },
         "textposition": "auto",
         "type": "bar",
         "x": [
          0.001,
          0.001,
          0.001,
          0.001,
          0.001
         ],
         "y": [
          "Project Design Life (years)",
          "Discount Rate (nominal) [%]",
          "Net Capacity Factor (%)",
          "OpEx ($/kW/yr)",
          "CapEx ($/kW)"
         ]
        },
        {
         "base": 34,
         "marker": {
          "color": [
           "rgb(51,153,255)",
           "rgb(102, 166, 30)",
           "rgb(230, 131, 16)",
           "rgb(153, 153, 153)",
           "rgb(51, 34, 136)"
          ],
          "colorscale": [
           [
            0,
            "rgb(51,153,255)"
           ],
           [
            0.25,
            "rgb(102, 166, 30)"
           ],
           [
            0.5,
            "rgb(230, 131, 16)"
           ],
           [
            0.75,
            "rgb(153, 153, 153)"
           ],
           [
            1,
            "rgb(51, 34, 136)"
           ]
          ]
         },
         "orientation": "h",
         "text": [
          "35",
          "4.2",
          "56",
          "30",
          "1000"
         ],
         "textfont": {
          "color": "white"
         },
         "textposition": "inside",
         "type": "bar",
         "x": [
          -4,
          -1,
          -9,
          -3,
          -8
         ],
         "y": [
          "Project Design Life (years)",
          "Discount Rate (nominal) [%]",
          "Net Capacity Factor (%)",
          "OpEx ($/kW/yr)",
          "CapEx ($/kW)"
         ]
        }
       ],
       "layout": {
        "bargap": 0.3,
        "barmode": "overlay",
        "height": 500,
        "margin": {
         "b": 10,
         "l": 10,
         "r": 10,
         "t": 50
        },
        "paper_bgcolor": "white",
        "plot_bgcolor": "white",
        "showlegend": false,
        "template": {
         "data": {
          "bar": [
           {
            "error_x": {
             "color": "#2a3f5f"
            },
            "error_y": {
             "color": "#2a3f5f"
            },
            "marker": {
             "line": {
              "color": "#E5ECF6",
              "width": 0.5
             },
             "pattern": {
              "fillmode": "overlay",
              "size": 10,
              "solidity": 0.2
             }
            },
            "type": "bar"
           }
          ],
          "barpolar": [
           {
            "marker": {
             "line": {
              "color": "#E5ECF6",
              "width": 0.5
             },
             "pattern": {
              "fillmode": "overlay",
              "size": 10,
              "solidity": 0.2
             }
            },
            "type": "barpolar"
           }
          ],
          "carpet": [
           {
            "aaxis": {
             "endlinecolor": "#2a3f5f",
             "gridcolor": "white",
             "linecolor": "white",
             "minorgridcolor": "white",
             "startlinecolor": "#2a3f5f"
            },
            "baxis": {
             "endlinecolor": "#2a3f5f",
             "gridcolor": "white",
             "linecolor": "white",
             "minorgridcolor": "white",
             "startlinecolor": "#2a3f5f"
            },
            "type": "carpet"
           }
          ],
          "choropleth": [
           {
            "colorbar": {
             "outlinewidth": 0,
             "ticks": ""
            },
            "type": "choropleth"
           }
          ],
          "contour": [
           {
            "colorbar": {
             "outlinewidth": 0,
             "ticks": ""
            },
            "colorscale": [
             [
              0,
              "#0d0887"
             ],
             [
              0.1111111111111111,
              "#46039f"
             ],
             [
              0.2222222222222222,
              "#7201a8"
             ],
             [
              0.3333333333333333,
              "#9c179e"
             ],
             [
              0.4444444444444444,
              "#bd3786"
             ],
             [
              0.5555555555555556,
              "#d8576b"
             ],
             [
              0.6666666666666666,
              "#ed7953"
             ],
             [
              0.7777777777777778,
              "#fb9f3a"
             ],
             [
              0.8888888888888888,
              "#fdca26"
             ],
             [
              1,
              "#f0f921"
             ]
            ],
            "type": "contour"
           }
          ],
          "contourcarpet": [
           {
            "colorbar": {
             "outlinewidth": 0,
             "ticks": ""
            },
            "type": "contourcarpet"
           }
          ],
          "heatmap": [
           {
            "colorbar": {
             "outlinewidth": 0,
             "ticks": ""
            },
            "colorscale": [
             [
              0,
              "#0d0887"
             ],
             [
              0.1111111111111111,
              "#46039f"
             ],
             [
              0.2222222222222222,
              "#7201a8"
             ],
             [
              0.3333333333333333,
              "#9c179e"
             ],
             [
              0.4444444444444444,
              "#bd3786"
             ],
             [
              0.5555555555555556,
              "#d8576b"
             ],
             [
              0.6666666666666666,
              "#ed7953"
             ],
             [
              0.7777777777777778,
              "#fb9f3a"
             ],
             [
              0.8888888888888888,
              "#fdca26"
             ],
             [
              1,
              "#f0f921"
             ]
            ],
            "type": "heatmap"
           }
          ],
          "heatmapgl": [
           {
            "colorbar": {
             "outlinewidth": 0,
             "ticks": ""
            },
            "colorscale": [
             [
              0,
              "#0d0887"
             ],
             [
              0.1111111111111111,
              "#46039f"
             ],
             [
              0.2222222222222222,
              "#7201a8"
             ],
             [
              0.3333333333333333,
              "#9c179e"
             ],
             [
              0.4444444444444444,
              "#bd3786"
             ],
             [
              0.5555555555555556,
              "#d8576b"
             ],
             [
              0.6666666666666666,
              "#ed7953"
             ],
             [
              0.7777777777777778,
              "#fb9f3a"
             ],
             [
              0.8888888888888888,
              "#fdca26"
             ],
             [
              1,
              "#f0f921"
             ]
            ],
            "type": "heatmapgl"
           }
          ],
          "histogram": [
           {
            "marker": {
             "pattern": {
              "fillmode": "overlay",
              "size": 10,
              "solidity": 0.2
             }
            },
            "type": "histogram"
           }
          ],
          "histogram2d": [
           {
            "colorbar": {
             "outlinewidth": 0,
             "ticks": ""
            },
            "colorscale": [
             [
              0,
              "#0d0887"
             ],
             [
              0.1111111111111111,
              "#46039f"
             ],
             [
              0.2222222222222222,
              "#7201a8"
             ],
             [
              0.3333333333333333,
              "#9c179e"
             ],
             [
              0.4444444444444444,
              "#bd3786"
             ],
             [
              0.5555555555555556,
              "#d8576b"
             ],
             [
              0.6666666666666666,
              "#ed7953"
             ],
             [
              0.7777777777777778,
              "#fb9f3a"
             ],
             [
              0.8888888888888888,
              "#fdca26"
             ],
             [
              1,
              "#f0f921"
             ]
            ],
            "type": "histogram2d"
           }
          ],
          "histogram2dcontour": [
           {
            "colorbar": {
             "outlinewidth": 0,
             "ticks": ""
            },
            "colorscale": [
             [
              0,
              "#0d0887"
             ],
             [
              0.1111111111111111,
              "#46039f"
             ],
             [
              0.2222222222222222,
              "#7201a8"
             ],
             [
              0.3333333333333333,
              "#9c179e"
             ],
             [
              0.4444444444444444,
              "#bd3786"
             ],
             [
              0.5555555555555556,
              "#d8576b"
             ],
             [
              0.6666666666666666,
              "#ed7953"
             ],
             [
              0.7777777777777778,
              "#fb9f3a"
             ],
             [
              0.8888888888888888,
              "#fdca26"
             ],
             [
              1,
              "#f0f921"
             ]
            ],
            "type": "histogram2dcontour"
           }
          ],
          "mesh3d": [
           {
            "colorbar": {
             "outlinewidth": 0,
             "ticks": ""
            },
            "type": "mesh3d"
           }
          ],
          "parcoords": [
           {
            "line": {
             "colorbar": {
              "outlinewidth": 0,
              "ticks": ""
             }
            },
            "type": "parcoords"
           }
          ],
          "pie": [
           {
            "automargin": true,
            "type": "pie"
           }
          ],
          "scatter": [
           {
            "fillpattern": {
             "fillmode": "overlay",
             "size": 10,
             "solidity": 0.2
            },
            "type": "scatter"
           }
          ],
          "scatter3d": [
           {
            "line": {
             "colorbar": {
              "outlinewidth": 0,
              "ticks": ""
             }
            },
            "marker": {
             "colorbar": {
              "outlinewidth": 0,
              "ticks": ""
             }
            },
            "type": "scatter3d"
           }
          ],
          "scattercarpet": [
           {
            "marker": {
             "colorbar": {
              "outlinewidth": 0,
              "ticks": ""
             }
            },
            "type": "scattercarpet"
           }
          ],
          "scattergeo": [
           {
            "marker": {
             "colorbar": {
              "outlinewidth": 0,
              "ticks": ""
             }
            },
            "type": "scattergeo"
           }
          ],
          "scattergl": [
           {
            "marker": {
             "colorbar": {
              "outlinewidth": 0,
              "ticks": ""
             }
            },
            "type": "scattergl"
           }
          ],
          "scattermapbox": [
           {
            "marker": {
             "colorbar": {
              "outlinewidth": 0,
              "ticks": ""
             }
            },
            "type": "scattermapbox"
           }
          ],
          "scatterpolar": [
           {
            "marker": {
             "colorbar": {
              "outlinewidth": 0,
              "ticks": ""
             }
            },
            "type": "scatterpolar"
           }
          ],
          "scatterpolargl": [
           {
            "marker": {
             "colorbar": {
              "outlinewidth": 0,
              "ticks": ""
             }
            },
            "type": "scatterpolargl"
           }
          ],
          "scatterternary": [
           {
            "marker": {
             "colorbar": {
              "outlinewidth": 0,
              "ticks": ""
             }
            },
            "type": "scatterternary"
           }
          ],
          "surface": [
           {
            "colorbar": {
             "outlinewidth": 0,
             "ticks": ""
            },
            "colorscale": [
             [
              0,
              "#0d0887"
             ],
             [
              0.1111111111111111,
              "#46039f"
             ],
             [
              0.2222222222222222,
              "#7201a8"
             ],
             [
              0.3333333333333333,
              "#9c179e"
             ],
             [
              0.4444444444444444,
              "#bd3786"
             ],
             [
              0.5555555555555556,
              "#d8576b"
             ],
             [
              0.6666666666666666,
              "#ed7953"
             ],
             [
              0.7777777777777778,
              "#fb9f3a"
             ],
             [
              0.8888888888888888,
              "#fdca26"
             ],
             [
              1,
              "#f0f921"
             ]
            ],
            "type": "surface"
           }
          ],
          "table": [
           {
            "cells": {
             "fill": {
              "color": "#EBF0F8"
             },
             "line": {
              "color": "white"
             }
            },
            "header": {
             "fill": {
              "color": "#C8D4E3"
             },
             "line": {
              "color": "white"
             }
            },
            "type": "table"
           }
          ]
         },
         "layout": {
          "annotationdefaults": {
           "arrowcolor": "#2a3f5f",
           "arrowhead": 0,
           "arrowwidth": 1
          },
          "autotypenumbers": "strict",
          "coloraxis": {
           "colorbar": {
            "outlinewidth": 0,
            "ticks": ""
           }
          },
          "colorscale": {
           "diverging": [
            [
             0,
             "#8e0152"
            ],
            [
             0.1,
             "#c51b7d"
            ],
            [
             0.2,
             "#de77ae"
            ],
            [
             0.3,
             "#f1b6da"
            ],
            [
             0.4,
             "#fde0ef"
            ],
            [
             0.5,
             "#f7f7f7"
            ],
            [
             0.6,
             "#e6f5d0"
            ],
            [
             0.7,
             "#b8e186"
            ],
            [
             0.8,
             "#7fbc41"
            ],
            [
             0.9,
             "#4d9221"
            ],
            [
             1,
             "#276419"
            ]
           ],
           "sequential": [
            [
             0,
             "#0d0887"
            ],
            [
             0.1111111111111111,
             "#46039f"
            ],
            [
             0.2222222222222222,
             "#7201a8"
            ],
            [
             0.3333333333333333,
             "#9c179e"
            ],
            [
             0.4444444444444444,
             "#bd3786"
            ],
            [
             0.5555555555555556,
             "#d8576b"
            ],
            [
             0.6666666666666666,
             "#ed7953"
            ],
            [
             0.7777777777777778,
             "#fb9f3a"
            ],
            [
             0.8888888888888888,
             "#fdca26"
            ],
            [
             1,
             "#f0f921"
            ]
           ],
           "sequentialminus": [
            [
             0,
             "#0d0887"
            ],
            [
             0.1111111111111111,
             "#46039f"
            ],
            [
             0.2222222222222222,
             "#7201a8"
            ],
            [
             0.3333333333333333,
             "#9c179e"
            ],
            [
             0.4444444444444444,
             "#bd3786"
            ],
            [
             0.5555555555555556,
             "#d8576b"
            ],
            [
             0.6666666666666666,
             "#ed7953"
            ],
            [
             0.7777777777777778,
             "#fb9f3a"
            ],
            [
             0.8888888888888888,
             "#fdca26"
            ],
            [
             1,
             "#f0f921"
            ]
           ]
          },
          "colorway": [
           "#636efa",
           "#EF553B",
           "#00cc96",
           "#ab63fa",
           "#FFA15A",
           "#19d3f3",
           "#FF6692",
           "#B6E880",
           "#FF97FF",
           "#FECB52"
          ],
          "font": {
           "color": "#2a3f5f"
          },
          "geo": {
           "bgcolor": "white",
           "lakecolor": "white",
           "landcolor": "#E5ECF6",
           "showlakes": true,
           "showland": true,
           "subunitcolor": "white"
          },
          "hoverlabel": {
           "align": "left"
          },
          "hovermode": "closest",
          "mapbox": {
           "style": "light"
          },
          "paper_bgcolor": "white",
          "plot_bgcolor": "#E5ECF6",
          "polar": {
           "angularaxis": {
            "gridcolor": "white",
            "linecolor": "white",
            "ticks": ""
           },
           "bgcolor": "#E5ECF6",
           "radialaxis": {
            "gridcolor": "white",
            "linecolor": "white",
            "ticks": ""
           }
          },
          "scene": {
           "xaxis": {
            "backgroundcolor": "#E5ECF6",
            "gridcolor": "white",
            "gridwidth": 2,
            "linecolor": "white",
            "showbackground": true,
            "ticks": "",
            "zerolinecolor": "white"
           },
           "yaxis": {
            "backgroundcolor": "#E5ECF6",
            "gridcolor": "white",
            "gridwidth": 2,
            "linecolor": "white",
            "showbackground": true,
            "ticks": "",
            "zerolinecolor": "white"
           },
           "zaxis": {
            "backgroundcolor": "#E5ECF6",
            "gridcolor": "white",
            "gridwidth": 2,
            "linecolor": "white",
            "showbackground": true,
            "ticks": "",
            "zerolinecolor": "white"
           }
          },
          "shapedefaults": {
           "line": {
            "color": "#2a3f5f"
           }
          },
          "ternary": {
           "aaxis": {
            "gridcolor": "white",
            "linecolor": "white",
            "ticks": ""
           },
           "baxis": {
            "gridcolor": "white",
            "linecolor": "white",
            "ticks": ""
           },
           "bgcolor": "#E5ECF6",
           "caxis": {
            "gridcolor": "white",
            "linecolor": "white",
            "ticks": ""
           }
          },
          "title": {
           "x": 0.05
          },
          "xaxis": {
           "automargin": true,
           "gridcolor": "white",
           "linecolor": "white",
           "ticks": "",
           "title": {
            "standoff": 15
           },
           "zerolinecolor": "white",
           "zerolinewidth": 2
          },
          "yaxis": {
           "automargin": true,
           "gridcolor": "white",
           "linecolor": "white",
           "ticks": "",
           "title": {
            "standoff": 15
           },
           "zerolinecolor": "white",
           "zerolinewidth": 2
          }
         }
        },
        "title": {
         "font": {
          "color": "black",
          "family": "sans-serif",
          "size": 25
         },
         "text": "Land-based wind power plant assumptions and ranges for key LCOE input parameters",
         "x": 0.5
        },
        "xaxis": {
         "tickangle": -45,
         "title": {
          "text": "Leveleized Cost of Electricity [Reference LCOE = $34/MWh]"
         }
        },
        "yaxis": {
         "tickfont": {
          "size": 14
         },
         "title": {
          "font": {
           "size": 16
          },
          "text": "Key Parameters for LCOE Sensitivity Analysis"
         }
        }
       }
      },
      "text/html": [
       "<div>                            <div id=\"80e44aa3-5e67-4168-af6a-bbb72b59c93f\" class=\"plotly-graph-div\" style=\"height:500px; width:100%;\"></div>            <script type=\"text/javascript\">                require([\"plotly\"], function(Plotly) {                    window.PLOTLYENV=window.PLOTLYENV || {};                                    if (document.getElementById(\"80e44aa3-5e67-4168-af6a-bbb72b59c93f\")) {                    Plotly.newPlot(                        \"80e44aa3-5e67-4168-af6a-bbb72b59c93f\",                        [{\"base\":34,\"marker\":{\"color\":[\"rgb(51,153,255)\",\"rgb(102, 166, 30)\",\"rgb(230, 131, 16)\",\"rgb(153, 153, 153)\",\"rgb(51, 34, 136)\"],\"colorscale\":[[0.0,\"rgb(51,153,255)\"],[0.25,\"rgb(102, 166, 30)\"],[0.5,\"rgb(230, 131, 16)\"],[0.75,\"rgb(153, 153, 153)\"],[1.0,\"rgb(51, 34, 136)\"]],\"line\":{\"width\":1.5}},\"orientation\":\"h\",\"text\":[\"15\",\"6.3\",\"24\",\"60\",\"2000\"],\"textfont\":{\"color\":\"white\"},\"textposition\":\"auto\",\"x\":[11,3,26,6,8],\"y\":[\"Project Design Life (years)\",\"Discount Rate (nominal) [%]\",\"Net Capacity Factor (%)\",\"OpEx ($/kW/yr)\",\"CapEx ($/kW)\"],\"type\":\"bar\"},{\"base\":34,\"marker\":{\"color\":[\"rgb(51,153,255)\",\"rgb(102, 166, 30)\",\"rgb(230, 131, 16)\",\"rgb(153, 153, 153)\",\"rgb(51, 34, 136)\"],\"colorscale\":[[0.0,\"rgb(51,153,255)\"],[0.25,\"rgb(102, 166, 30)\"],[0.5,\"rgb(230, 131, 16)\"],[0.75,\"rgb(153, 153, 153)\"],[1.0,\"rgb(51, 34, 136)\"]]},\"orientation\":\"h\",\"text\":[\"25\",\"5.2\",\"42.3\",\"43\",\"1462\"],\"textfont\":{\"color\":\"white\"},\"textposition\":\"auto\",\"x\":[0.001,0.001,0.001,0.001,0.001],\"y\":[\"Project Design Life (years)\",\"Discount Rate (nominal) [%]\",\"Net Capacity Factor (%)\",\"OpEx ($/kW/yr)\",\"CapEx ($/kW)\"],\"type\":\"bar\"},{\"base\":34,\"marker\":{\"color\":[\"rgb(51,153,255)\",\"rgb(102, 166, 30)\",\"rgb(230, 131, 16)\",\"rgb(153, 153, 153)\",\"rgb(51, 34, 136)\"],\"colorscale\":[[0.0,\"rgb(51,153,255)\"],[0.25,\"rgb(102, 166, 30)\"],[0.5,\"rgb(230, 131, 16)\"],[0.75,\"rgb(153, 153, 153)\"],[1.0,\"rgb(51, 34, 136)\"]]},\"orientation\":\"h\",\"text\":[\"35\",\"4.2\",\"56\",\"30\",\"1000\"],\"textfont\":{\"color\":\"white\"},\"textposition\":\"inside\",\"x\":[-4,-1,-9,-3,-8],\"y\":[\"Project Design Life (years)\",\"Discount Rate (nominal) [%]\",\"Net Capacity Factor (%)\",\"OpEx ($/kW/yr)\",\"CapEx ($/kW)\"],\"type\":\"bar\"}],                        {\"template\":{\"data\":{\"histogram2dcontour\":[{\"type\":\"histogram2dcontour\",\"colorbar\":{\"outlinewidth\":0,\"ticks\":\"\"},\"colorscale\":[[0.0,\"#0d0887\"],[0.1111111111111111,\"#46039f\"],[0.2222222222222222,\"#7201a8\"],[0.3333333333333333,\"#9c179e\"],[0.4444444444444444,\"#bd3786\"],[0.5555555555555556,\"#d8576b\"],[0.6666666666666666,\"#ed7953\"],[0.7777777777777778,\"#fb9f3a\"],[0.8888888888888888,\"#fdca26\"],[1.0,\"#f0f921\"]]}],\"choropleth\":[{\"type\":\"choropleth\",\"colorbar\":{\"outlinewidth\":0,\"ticks\":\"\"}}],\"histogram2d\":[{\"type\":\"histogram2d\",\"colorbar\":{\"outlinewidth\":0,\"ticks\":\"\"},\"colorscale\":[[0.0,\"#0d0887\"],[0.1111111111111111,\"#46039f\"],[0.2222222222222222,\"#7201a8\"],[0.3333333333333333,\"#9c179e\"],[0.4444444444444444,\"#bd3786\"],[0.5555555555555556,\"#d8576b\"],[0.6666666666666666,\"#ed7953\"],[0.7777777777777778,\"#fb9f3a\"],[0.8888888888888888,\"#fdca26\"],[1.0,\"#f0f921\"]]}],\"heatmap\":[{\"type\":\"heatmap\",\"colorbar\":{\"outlinewidth\":0,\"ticks\":\"\"},\"colorscale\":[[0.0,\"#0d0887\"],[0.1111111111111111,\"#46039f\"],[0.2222222222222222,\"#7201a8\"],[0.3333333333333333,\"#9c179e\"],[0.4444444444444444,\"#bd3786\"],[0.5555555555555556,\"#d8576b\"],[0.6666666666666666,\"#ed7953\"],[0.7777777777777778,\"#fb9f3a\"],[0.8888888888888888,\"#fdca26\"],[1.0,\"#f0f921\"]]}],\"heatmapgl\":[{\"type\":\"heatmapgl\",\"colorbar\":{\"outlinewidth\":0,\"ticks\":\"\"},\"colorscale\":[[0.0,\"#0d0887\"],[0.1111111111111111,\"#46039f\"],[0.2222222222222222,\"#7201a8\"],[0.3333333333333333,\"#9c179e\"],[0.4444444444444444,\"#bd3786\"],[0.5555555555555556,\"#d8576b\"],[0.6666666666666666,\"#ed7953\"],[0.7777777777777778,\"#fb9f3a\"],[0.8888888888888888,\"#fdca26\"],[1.0,\"#f0f921\"]]}],\"contourcarpet\":[{\"type\":\"contourcarpet\",\"colorbar\":{\"outlinewidth\":0,\"ticks\":\"\"}}],\"contour\":[{\"type\":\"contour\",\"colorbar\":{\"outlinewidth\":0,\"ticks\":\"\"},\"colorscale\":[[0.0,\"#0d0887\"],[0.1111111111111111,\"#46039f\"],[0.2222222222222222,\"#7201a8\"],[0.3333333333333333,\"#9c179e\"],[0.4444444444444444,\"#bd3786\"],[0.5555555555555556,\"#d8576b\"],[0.6666666666666666,\"#ed7953\"],[0.7777777777777778,\"#fb9f3a\"],[0.8888888888888888,\"#fdca26\"],[1.0,\"#f0f921\"]]}],\"surface\":[{\"type\":\"surface\",\"colorbar\":{\"outlinewidth\":0,\"ticks\":\"\"},\"colorscale\":[[0.0,\"#0d0887\"],[0.1111111111111111,\"#46039f\"],[0.2222222222222222,\"#7201a8\"],[0.3333333333333333,\"#9c179e\"],[0.4444444444444444,\"#bd3786\"],[0.5555555555555556,\"#d8576b\"],[0.6666666666666666,\"#ed7953\"],[0.7777777777777778,\"#fb9f3a\"],[0.8888888888888888,\"#fdca26\"],[1.0,\"#f0f921\"]]}],\"mesh3d\":[{\"type\":\"mesh3d\",\"colorbar\":{\"outlinewidth\":0,\"ticks\":\"\"}}],\"scatter\":[{\"fillpattern\":{\"fillmode\":\"overlay\",\"size\":10,\"solidity\":0.2},\"type\":\"scatter\"}],\"parcoords\":[{\"type\":\"parcoords\",\"line\":{\"colorbar\":{\"outlinewidth\":0,\"ticks\":\"\"}}}],\"scatterpolargl\":[{\"type\":\"scatterpolargl\",\"marker\":{\"colorbar\":{\"outlinewidth\":0,\"ticks\":\"\"}}}],\"bar\":[{\"error_x\":{\"color\":\"#2a3f5f\"},\"error_y\":{\"color\":\"#2a3f5f\"},\"marker\":{\"line\":{\"color\":\"#E5ECF6\",\"width\":0.5},\"pattern\":{\"fillmode\":\"overlay\",\"size\":10,\"solidity\":0.2}},\"type\":\"bar\"}],\"scattergeo\":[{\"type\":\"scattergeo\",\"marker\":{\"colorbar\":{\"outlinewidth\":0,\"ticks\":\"\"}}}],\"scatterpolar\":[{\"type\":\"scatterpolar\",\"marker\":{\"colorbar\":{\"outlinewidth\":0,\"ticks\":\"\"}}}],\"histogram\":[{\"marker\":{\"pattern\":{\"fillmode\":\"overlay\",\"size\":10,\"solidity\":0.2}},\"type\":\"histogram\"}],\"scattergl\":[{\"type\":\"scattergl\",\"marker\":{\"colorbar\":{\"outlinewidth\":0,\"ticks\":\"\"}}}],\"scatter3d\":[{\"type\":\"scatter3d\",\"line\":{\"colorbar\":{\"outlinewidth\":0,\"ticks\":\"\"}},\"marker\":{\"colorbar\":{\"outlinewidth\":0,\"ticks\":\"\"}}}],\"scattermapbox\":[{\"type\":\"scattermapbox\",\"marker\":{\"colorbar\":{\"outlinewidth\":0,\"ticks\":\"\"}}}],\"scatterternary\":[{\"type\":\"scatterternary\",\"marker\":{\"colorbar\":{\"outlinewidth\":0,\"ticks\":\"\"}}}],\"scattercarpet\":[{\"type\":\"scattercarpet\",\"marker\":{\"colorbar\":{\"outlinewidth\":0,\"ticks\":\"\"}}}],\"carpet\":[{\"aaxis\":{\"endlinecolor\":\"#2a3f5f\",\"gridcolor\":\"white\",\"linecolor\":\"white\",\"minorgridcolor\":\"white\",\"startlinecolor\":\"#2a3f5f\"},\"baxis\":{\"endlinecolor\":\"#2a3f5f\",\"gridcolor\":\"white\",\"linecolor\":\"white\",\"minorgridcolor\":\"white\",\"startlinecolor\":\"#2a3f5f\"},\"type\":\"carpet\"}],\"table\":[{\"cells\":{\"fill\":{\"color\":\"#EBF0F8\"},\"line\":{\"color\":\"white\"}},\"header\":{\"fill\":{\"color\":\"#C8D4E3\"},\"line\":{\"color\":\"white\"}},\"type\":\"table\"}],\"barpolar\":[{\"marker\":{\"line\":{\"color\":\"#E5ECF6\",\"width\":0.5},\"pattern\":{\"fillmode\":\"overlay\",\"size\":10,\"solidity\":0.2}},\"type\":\"barpolar\"}],\"pie\":[{\"automargin\":true,\"type\":\"pie\"}]},\"layout\":{\"autotypenumbers\":\"strict\",\"colorway\":[\"#636efa\",\"#EF553B\",\"#00cc96\",\"#ab63fa\",\"#FFA15A\",\"#19d3f3\",\"#FF6692\",\"#B6E880\",\"#FF97FF\",\"#FECB52\"],\"font\":{\"color\":\"#2a3f5f\"},\"hovermode\":\"closest\",\"hoverlabel\":{\"align\":\"left\"},\"paper_bgcolor\":\"white\",\"plot_bgcolor\":\"#E5ECF6\",\"polar\":{\"bgcolor\":\"#E5ECF6\",\"angularaxis\":{\"gridcolor\":\"white\",\"linecolor\":\"white\",\"ticks\":\"\"},\"radialaxis\":{\"gridcolor\":\"white\",\"linecolor\":\"white\",\"ticks\":\"\"}},\"ternary\":{\"bgcolor\":\"#E5ECF6\",\"aaxis\":{\"gridcolor\":\"white\",\"linecolor\":\"white\",\"ticks\":\"\"},\"baxis\":{\"gridcolor\":\"white\",\"linecolor\":\"white\",\"ticks\":\"\"},\"caxis\":{\"gridcolor\":\"white\",\"linecolor\":\"white\",\"ticks\":\"\"}},\"coloraxis\":{\"colorbar\":{\"outlinewidth\":0,\"ticks\":\"\"}},\"colorscale\":{\"sequential\":[[0.0,\"#0d0887\"],[0.1111111111111111,\"#46039f\"],[0.2222222222222222,\"#7201a8\"],[0.3333333333333333,\"#9c179e\"],[0.4444444444444444,\"#bd3786\"],[0.5555555555555556,\"#d8576b\"],[0.6666666666666666,\"#ed7953\"],[0.7777777777777778,\"#fb9f3a\"],[0.8888888888888888,\"#fdca26\"],[1.0,\"#f0f921\"]],\"sequentialminus\":[[0.0,\"#0d0887\"],[0.1111111111111111,\"#46039f\"],[0.2222222222222222,\"#7201a8\"],[0.3333333333333333,\"#9c179e\"],[0.4444444444444444,\"#bd3786\"],[0.5555555555555556,\"#d8576b\"],[0.6666666666666666,\"#ed7953\"],[0.7777777777777778,\"#fb9f3a\"],[0.8888888888888888,\"#fdca26\"],[1.0,\"#f0f921\"]],\"diverging\":[[0,\"#8e0152\"],[0.1,\"#c51b7d\"],[0.2,\"#de77ae\"],[0.3,\"#f1b6da\"],[0.4,\"#fde0ef\"],[0.5,\"#f7f7f7\"],[0.6,\"#e6f5d0\"],[0.7,\"#b8e186\"],[0.8,\"#7fbc41\"],[0.9,\"#4d9221\"],[1,\"#276419\"]]},\"xaxis\":{\"gridcolor\":\"white\",\"linecolor\":\"white\",\"ticks\":\"\",\"title\":{\"standoff\":15},\"zerolinecolor\":\"white\",\"automargin\":true,\"zerolinewidth\":2},\"yaxis\":{\"gridcolor\":\"white\",\"linecolor\":\"white\",\"ticks\":\"\",\"title\":{\"standoff\":15},\"zerolinecolor\":\"white\",\"automargin\":true,\"zerolinewidth\":2},\"scene\":{\"xaxis\":{\"backgroundcolor\":\"#E5ECF6\",\"gridcolor\":\"white\",\"linecolor\":\"white\",\"showbackground\":true,\"ticks\":\"\",\"zerolinecolor\":\"white\",\"gridwidth\":2},\"yaxis\":{\"backgroundcolor\":\"#E5ECF6\",\"gridcolor\":\"white\",\"linecolor\":\"white\",\"showbackground\":true,\"ticks\":\"\",\"zerolinecolor\":\"white\",\"gridwidth\":2},\"zaxis\":{\"backgroundcolor\":\"#E5ECF6\",\"gridcolor\":\"white\",\"linecolor\":\"white\",\"showbackground\":true,\"ticks\":\"\",\"zerolinecolor\":\"white\",\"gridwidth\":2}},\"shapedefaults\":{\"line\":{\"color\":\"#2a3f5f\"}},\"annotationdefaults\":{\"arrowcolor\":\"#2a3f5f\",\"arrowhead\":0,\"arrowwidth\":1},\"geo\":{\"bgcolor\":\"white\",\"landcolor\":\"#E5ECF6\",\"subunitcolor\":\"white\",\"showland\":true,\"showlakes\":true,\"lakecolor\":\"white\"},\"title\":{\"x\":0.05},\"mapbox\":{\"style\":\"light\"}}},\"margin\":{\"t\":50,\"l\":10,\"b\":10,\"r\":10},\"title\":{\"font\":{\"family\":\"sans-serif\",\"size\":25,\"color\":\"black\"},\"text\":\"Land-based wind power plant assumptions and ranges for key LCOE input parameters\",\"x\":0.5},\"height\":500,\"xaxis\":{\"tickangle\":-45,\"title\":{\"text\":\"Leveleized Cost of Electricity [Reference LCOE = $34/MWh]\"}},\"yaxis\":{\"title\":{\"text\":\"Key Parameters for LCOE Sensitivity Analysis\",\"font\":{\"size\":16}},\"tickfont\":{\"size\":14}},\"barmode\":\"overlay\",\"bargap\":0.3,\"paper_bgcolor\":\"white\",\"plot_bgcolor\":\"white\",\"showlegend\":false},                        {\"responsive\": true}                    ).then(function(){\n",
       "                            \n",
       "var gd = document.getElementById('80e44aa3-5e67-4168-af6a-bbb72b59c93f');\n",
       "var x = new MutationObserver(function (mutations, observer) {{\n",
       "        var display = window.getComputedStyle(gd).display;\n",
       "        if (!display || display === 'none') {{\n",
       "            console.log([gd, 'removed!']);\n",
       "            Plotly.purge(gd);\n",
       "            observer.disconnect();\n",
       "        }}\n",
       "}});\n",
       "\n",
       "// Listen for the removal of the full notebook cells\n",
       "var notebookContainer = gd.closest('#notebook-container');\n",
       "if (notebookContainer) {{\n",
       "    x.observe(notebookContainer, {childList: true});\n",
       "}}\n",
       "\n",
       "// Listen for the clearing of the current output cell\n",
       "var outputEl = gd.closest('.output');\n",
       "if (outputEl) {{\n",
       "    x.observe(outputEl, {childList: true});\n",
       "}}\n",
       "\n",
       "                        })                };                });            </script>        </div>"
      ]
     },
     "metadata": {},
     "output_type": "display_data"
    }
   ],
   "source": [
    "# Tornado chart template obtained from \n",
    "# https://python.plainenglish.io/how-to-create-a-beautify-tornado-chart-in-python-plotly-6c0519e185b4\n",
    "\n",
    "import numpy as np\n",
    "import pandas as pd\n",
    "import matplotlib.pyplot as plt\n",
    "import plotly.graph_objects as go\n",
    "%matplotlib inline\n",
    "\n",
    "y_labels = ['Project Design Life (years)',\n",
    "         'Discount Rate (nominal) [%]',\n",
    "         'Net Capacity Factor (%)',\n",
    "         'OpEx ($/kW/yr)',\n",
    "         'CapEx ($/kW)']\n",
    "\n",
    "\n",
    "upper_capex = 42\n",
    "upper_opex = 40\n",
    "upper_net_cf = 60\n",
    "upper_discount_rate = 37\n",
    "upper_project_design_life = 45\n",
    "upper_bound = [upper_project_design_life, \n",
    "               upper_discount_rate, \n",
    "               upper_net_cf,\n",
    "               upper_opex,\n",
    "               upper_capex]\n",
    "\n",
    "# Values to go into bar labels\n",
    "upper_capex_label = 2000\n",
    "upper_opex_label = 60\n",
    "upper_net_cf_label = 24\n",
    "upper_discount_rate_label = 6.26\n",
    "upper_project_design_life_label = 15\n",
    "upper_bound_label = [upper_project_design_life_label, \n",
    "                    upper_discount_rate_label, \n",
    "                    upper_net_cf_label,\n",
    "                    upper_opex_label,\n",
    "                    upper_capex_label]\n",
    "\n",
    "# ajdust for lcoe \n",
    "upper_bound_lcoe_adjustment = [x - lcoe for x in upper_bound]\n",
    "\n",
    "lower_capex = lcoe - 26\n",
    "lower_opex = lcoe - 31\n",
    "lower_net_cf = lcoe - 25\n",
    "lower_discount_rate = lcoe - 33\n",
    "lower_project_design_life = lcoe - 30\n",
    "lower_bound = [lower_project_design_life, \n",
    "               lower_discount_rate, \n",
    "               lower_net_cf,\n",
    "               lower_opex,\n",
    "               lower_capex]\n",
    "\n",
    "# Values to go into bar labels\n",
    "lower_capex_label = 1000\n",
    "lower_opex_label = 30\n",
    "lower_net_cf_label = 56\n",
    "lower_discount_rate_label = 4.22\n",
    "lower_project_design_life_label = 35\n",
    "lower_bound_label = [lower_project_design_life_label, \n",
    "                    lower_discount_rate_label, \n",
    "                    lower_net_cf_label,\n",
    "                    lower_opex_label,\n",
    "                    lower_capex_label]\n",
    "\n",
    "# Values for reference case\n",
    "base_capex = 0.001\n",
    "base_opex = 0.001\n",
    "base_net_cf = 0.001\n",
    "base_discount_rate = 0.001\n",
    "base_project_design_life = 0.001\n",
    "base_bound = [base_project_design_life, \n",
    "               base_discount_rate, \n",
    "               base_net_cf,\n",
    "               base_opex,\n",
    "               base_capex]\n",
    "\n",
    "# Values to go into bar labels (reference)\n",
    "base_capex_label = 1462\n",
    "base_opex_label = 43\n",
    "base_net_cf_label = 42.3\n",
    "base_discount_rate_label = 5.23\n",
    "base_project_design_life_label = 25\n",
    "base_bound_label = [base_project_design_life_label, \n",
    "                    base_discount_rate_label, \n",
    "                    base_net_cf_label,\n",
    "                    base_opex_label,\n",
    "                    base_capex_label]\n",
    "\n",
    "#convert lower_bound to negative values\n",
    "def Convert(lst):\n",
    "    return [ -i for i in lst ]\n",
    "\n",
    "negative_lower_bound = Convert(lower_bound)\n",
    "# ajdust for lcoe \n",
    "negative_lower_bound_lcoe_adjustment = [x + lcoe for x in negative_lower_bound]\n",
    "\n",
    "fig = go.Figure()\n",
    "\n",
    "\n",
    "\n",
    "customscale=[\"rgb(51,153,255)\",\n",
    "            \"rgb(102, 166, 30)\",\n",
    "            \"rgb(230, 131, 16)\", \n",
    "            \"rgb(153, 153, 153)\",\n",
    "            \"rgb(51, 34, 136)\"]\n",
    "z = customscale\n",
    "\n",
    "fig.add_trace(go.Bar(y=y_labels, x=upper_bound_lcoe_adjustment,\n",
    "                base=lcoe,\n",
    "                marker=dict(color = z, colorscale=customscale),\n",
    "                orientation='h',\n",
    "                marker_line_width=1.5,\n",
    "                text = [round(elem, 1) for elem in upper_bound_label],\n",
    "                textposition='auto',\n",
    "                textfont=dict(color=\"white\")\n",
    "                    ))\n",
    "\n",
    "fig.add_trace(go.Bar(y=y_labels, x=base_bound,\n",
    "                base= lcoe,\n",
    "                marker=dict(color = z, colorscale=customscale),\n",
    "                orientation='h',\n",
    "                text = [round(elem, 1) for elem in base_bound_label],\n",
    "                textposition='auto',\n",
    "                textfont=dict(color=\"white\")\n",
    "              ))\n",
    "\n",
    "fig.add_trace(go.Bar(y=y_labels, x=negative_lower_bound,\n",
    "                base= lcoe,\n",
    "                marker=dict(color = z, colorscale=customscale),\n",
    "                orientation='h',\n",
    "                text = [round(elem, 1) for elem in lower_bound_label],\n",
    "                textposition='inside',\n",
    "                textfont=dict(color=\"white\")\n",
    "              ))\n",
    "\n",
    "fig.update_layout(height=500,\n",
    "                  margin=dict(t=50,l=10,b=10,r=10),title_text=\"Land-based wind power plant assumptions and ranges for key LCOE input parameters\",\n",
    "                  title_font_family=\"sans-serif\",\n",
    "                  title_font_size = 25,\n",
    "                  title_font_color=\"black\",\n",
    "                  title_x=0.5 #to adjust the position along x-axis of the title\n",
    "                 )\n",
    "\n",
    "fig.update_layout(\n",
    "                  barmode='overlay', \n",
    "                  xaxis_tickangle=-45, \n",
    "                  xaxis=dict(\n",
    "                      title=\"Leveleized Cost of Electricity [Reference LCOE = $\" + str(lcoe) +  \"/MWh]\"),\n",
    "                  yaxis=dict(\n",
    "                             title='Key Parameters for LCOE Sensitivity Analysis', \n",
    "                             titlefont_size=16, \n",
    "                             tickfont_size=14),\n",
    "                  bargap=0.30, \n",
    "                  paper_bgcolor='white',\n",
    "                  plot_bgcolor='white',\n",
    "                 )\n",
    "fig.update(layout_showlegend=False)\n",
    "\n",
    "fig.show()"
   ]
  },
  {
   "cell_type": "markdown",
   "id": "877a7e24",
   "metadata": {},
   "source": [
    "<br/><br/>\n",
    "# <center>Equation 1. LCOE Equation"
   ]
  },
  {
   "cell_type": "markdown",
   "id": "41b55bca",
   "metadata": {},
   "source": [
    "$$\n",
    "LCOE = \\frac{CapEx * FCR) + OpEx}{AEP_{net}/1000}\n",
    "$$"
   ]
  },
  {
   "cell_type": "markdown",
   "id": "f86e7344",
   "metadata": {},
   "source": [
    "<br/><br/>\n",
    "# <center>Table 5. Reference Land-Based Wind Turbine Parameters"
   ]
  },
  {
   "cell_type": "code",
   "execution_count": 82,
   "id": "9c83cdfe",
   "metadata": {},
   "outputs": [
    {
     "data": {
      "text/html": [
       "<div>\n",
       "<style scoped>\n",
       "    .dataframe tbody tr th:only-of-type {\n",
       "        vertical-align: middle;\n",
       "    }\n",
       "\n",
       "    .dataframe tbody tr th {\n",
       "        vertical-align: top;\n",
       "    }\n",
       "\n",
       "    .dataframe thead tr th {\n",
       "        text-align: left;\n",
       "    }\n",
       "</style>\n",
       "<table border=\"1\" class=\"dataframe\">\n",
       "  <thead>\n",
       "    <tr>\n",
       "      <th></th>\n",
       "      <th>Turbine Parameters</th>\n",
       "    </tr>\n",
       "  </thead>\n",
       "  <tbody>\n",
       "    <tr>\n",
       "      <th>Turbine rated power (MW)</th>\n",
       "      <td>2.8</td>\n",
       "    </tr>\n",
       "    <tr>\n",
       "      <th>Turbine rotor diameter (m)</th>\n",
       "      <td>125</td>\n",
       "    </tr>\n",
       "    <tr>\n",
       "      <th>Turbine hub height (m)</th>\n",
       "      <td>90</td>\n",
       "    </tr>\n",
       "    <tr>\n",
       "      <th>Maximum rotor tip speed (meters per second [m/s])</th>\n",
       "      <td>80</td>\n",
       "    </tr>\n",
       "    <tr>\n",
       "      <th>Tip-speed ratio at maximum coefficient of power (Cp)</th>\n",
       "      <td>8</td>\n",
       "    </tr>\n",
       "    <tr>\n",
       "      <th>Drivetrain design</th>\n",
       "      <td>Geared</td>\n",
       "    </tr>\n",
       "    <tr>\n",
       "      <th>Cut-in wind speed (m/s)</th>\n",
       "      <td>3</td>\n",
       "    </tr>\n",
       "    <tr>\n",
       "      <th>Cut-out wind speed (m/s)</th>\n",
       "      <td>25</td>\n",
       "    </tr>\n",
       "    <tr>\n",
       "      <th>Maximum coefficient of power</th>\n",
       "      <td>0.47</td>\n",
       "    </tr>\n",
       "  </tbody>\n",
       "</table>\n",
       "</div>"
      ],
      "text/plain": [
       "0                                                  Turbine Parameters\n",
       "Turbine rated power (MW)                                          2.8\n",
       "Turbine rotor diameter (m)                                        125\n",
       "Turbine hub height (m)                                             90\n",
       "Maximum rotor tip speed (meters per second [m/s])                  80\n",
       "Tip-speed ratio at maximum coefficient of power...                  8\n",
       "Drivetrain design                                              Geared\n",
       "Cut-in wind speed (m/s)                                             3\n",
       "Cut-out wind speed (m/s)                                           25\n",
       "Maximum coefficient of power                                     0.47"
      ]
     },
     "metadata": {},
     "output_type": "display_data"
    }
   ],
   "source": [
    "import pandas as pd\n",
    "\n",
    "column_names = pd.DataFrame([\"Turbine Parameters\"])\n",
    "\n",
    "columns = pd.MultiIndex.from_frame(column_names)\n",
    "index = [\"Turbine rated power (MW)\",\n",
    "         \"Turbine rotor diameter (m)\",\n",
    "         \"Turbine hub height (m) \",\n",
    "         \"Maximum rotor tip speed (meters per second [m/s])\",\n",
    "         \"Tip-speed ratio at maximum coefficient of power (Cp) \",\n",
    "         \"Drivetrain design\",\n",
    "         \"Cut-in wind speed (m/s)\",\n",
    "         \"Cut-out wind speed (m/s)\",\n",
    "         \"Maximum coefficient of power\"\n",
    "        ]\n",
    "\n",
    "rows = [2.8, \n",
    "        125, \n",
    "        90, \n",
    "        80, \n",
    "        8, \n",
    "        'Geared', \n",
    "        3, \n",
    "        25, \n",
    "        0.47\n",
    "       ]\n",
    "\n",
    "df = pd.DataFrame(rows, columns=columns, index=index)\n",
    "\n",
    "\n",
    "display(df)\n",
    "\n",
    "\n",
    "\n",
    "# dict_table5 = {'Turbine Parameters': \n",
    "#         {\n",
    "#             'Maximum coefficient of power': round(0.47, 2),\n",
    "#             'Cut-out wind speed (m/s)': 25,\n",
    "#             'Cut-in wind speed (m/s)': 3,\n",
    "#             'Drivetrain design': 'Geared',\n",
    "#             'Tip-speed ratio at maximum coefficient of power (Cp)': 9,\n",
    "#             'Maximum rotor tip speed (meters per second [m/s])': 80,\n",
    "#             'Turbine hub height (m)': 90,\n",
    "#             'Turbine rotor diameter (m)': 125,\n",
    "#             'Turbine rated power (MW)': 2.8,\n",
    "\n",
    "#         }\n",
    "#        }\n",
    "\n",
    "# dataframe = pd.DataFrame(dict_table5)\n",
    "# dataframe.style.background_gradient()"
   ]
  },
  {
   "cell_type": "markdown",
   "id": "0911cb61",
   "metadata": {},
   "source": [
    "<br/><br/>\n",
    "# <center>Figure 6. Pathway to LCOE reduction in 2030 by LCOE parameter"
   ]
  },
  {
   "cell_type": "code",
   "execution_count": 83,
   "id": "a27ff97d",
   "metadata": {},
   "outputs": [
    {
     "data": {
      "application/vnd.plotly.v1+json": {
       "config": {
        "plotlyServerURL": "https://plot.ly"
       },
       "data": [
        {
         "measure": [
          "relative",
          "relative",
          "relative",
          "relative",
          "relative",
          "total"
         ],
         "name": "20",
         "orientation": "v",
         "text": [
          "56",
          "-8",
          "-20",
          "-4",
          "-1",
          "23"
         ],
         "textposition": "outside",
         "type": "waterfall",
         "x": [
          "FY 2016 GPRA",
          "CapEx",
          "AEP",
          "OpEx",
          "Financing",
          "FY 2030 Target"
         ],
         "y": [
          56,
          -8,
          -20,
          -4,
          -1,
          23
         ]
        }
       ],
       "layout": {
        "paper_bgcolor": "white",
        "plot_bgcolor": "white",
        "showlegend": false,
        "template": {
         "data": {
          "bar": [
           {
            "error_x": {
             "color": "#2a3f5f"
            },
            "error_y": {
             "color": "#2a3f5f"
            },
            "marker": {
             "line": {
              "color": "#E5ECF6",
              "width": 0.5
             },
             "pattern": {
              "fillmode": "overlay",
              "size": 10,
              "solidity": 0.2
             }
            },
            "type": "bar"
           }
          ],
          "barpolar": [
           {
            "marker": {
             "line": {
              "color": "#E5ECF6",
              "width": 0.5
             },
             "pattern": {
              "fillmode": "overlay",
              "size": 10,
              "solidity": 0.2
             }
            },
            "type": "barpolar"
           }
          ],
          "carpet": [
           {
            "aaxis": {
             "endlinecolor": "#2a3f5f",
             "gridcolor": "white",
             "linecolor": "white",
             "minorgridcolor": "white",
             "startlinecolor": "#2a3f5f"
            },
            "baxis": {
             "endlinecolor": "#2a3f5f",
             "gridcolor": "white",
             "linecolor": "white",
             "minorgridcolor": "white",
             "startlinecolor": "#2a3f5f"
            },
            "type": "carpet"
           }
          ],
          "choropleth": [
           {
            "colorbar": {
             "outlinewidth": 0,
             "ticks": ""
            },
            "type": "choropleth"
           }
          ],
          "contour": [
           {
            "colorbar": {
             "outlinewidth": 0,
             "ticks": ""
            },
            "colorscale": [
             [
              0,
              "#0d0887"
             ],
             [
              0.1111111111111111,
              "#46039f"
             ],
             [
              0.2222222222222222,
              "#7201a8"
             ],
             [
              0.3333333333333333,
              "#9c179e"
             ],
             [
              0.4444444444444444,
              "#bd3786"
             ],
             [
              0.5555555555555556,
              "#d8576b"
             ],
             [
              0.6666666666666666,
              "#ed7953"
             ],
             [
              0.7777777777777778,
              "#fb9f3a"
             ],
             [
              0.8888888888888888,
              "#fdca26"
             ],
             [
              1,
              "#f0f921"
             ]
            ],
            "type": "contour"
           }
          ],
          "contourcarpet": [
           {
            "colorbar": {
             "outlinewidth": 0,
             "ticks": ""
            },
            "type": "contourcarpet"
           }
          ],
          "heatmap": [
           {
            "colorbar": {
             "outlinewidth": 0,
             "ticks": ""
            },
            "colorscale": [
             [
              0,
              "#0d0887"
             ],
             [
              0.1111111111111111,
              "#46039f"
             ],
             [
              0.2222222222222222,
              "#7201a8"
             ],
             [
              0.3333333333333333,
              "#9c179e"
             ],
             [
              0.4444444444444444,
              "#bd3786"
             ],
             [
              0.5555555555555556,
              "#d8576b"
             ],
             [
              0.6666666666666666,
              "#ed7953"
             ],
             [
              0.7777777777777778,
              "#fb9f3a"
             ],
             [
              0.8888888888888888,
              "#fdca26"
             ],
             [
              1,
              "#f0f921"
             ]
            ],
            "type": "heatmap"
           }
          ],
          "heatmapgl": [
           {
            "colorbar": {
             "outlinewidth": 0,
             "ticks": ""
            },
            "colorscale": [
             [
              0,
              "#0d0887"
             ],
             [
              0.1111111111111111,
              "#46039f"
             ],
             [
              0.2222222222222222,
              "#7201a8"
             ],
             [
              0.3333333333333333,
              "#9c179e"
             ],
             [
              0.4444444444444444,
              "#bd3786"
             ],
             [
              0.5555555555555556,
              "#d8576b"
             ],
             [
              0.6666666666666666,
              "#ed7953"
             ],
             [
              0.7777777777777778,
              "#fb9f3a"
             ],
             [
              0.8888888888888888,
              "#fdca26"
             ],
             [
              1,
              "#f0f921"
             ]
            ],
            "type": "heatmapgl"
           }
          ],
          "histogram": [
           {
            "marker": {
             "pattern": {
              "fillmode": "overlay",
              "size": 10,
              "solidity": 0.2
             }
            },
            "type": "histogram"
           }
          ],
          "histogram2d": [
           {
            "colorbar": {
             "outlinewidth": 0,
             "ticks": ""
            },
            "colorscale": [
             [
              0,
              "#0d0887"
             ],
             [
              0.1111111111111111,
              "#46039f"
             ],
             [
              0.2222222222222222,
              "#7201a8"
             ],
             [
              0.3333333333333333,
              "#9c179e"
             ],
             [
              0.4444444444444444,
              "#bd3786"
             ],
             [
              0.5555555555555556,
              "#d8576b"
             ],
             [
              0.6666666666666666,
              "#ed7953"
             ],
             [
              0.7777777777777778,
              "#fb9f3a"
             ],
             [
              0.8888888888888888,
              "#fdca26"
             ],
             [
              1,
              "#f0f921"
             ]
            ],
            "type": "histogram2d"
           }
          ],
          "histogram2dcontour": [
           {
            "colorbar": {
             "outlinewidth": 0,
             "ticks": ""
            },
            "colorscale": [
             [
              0,
              "#0d0887"
             ],
             [
              0.1111111111111111,
              "#46039f"
             ],
             [
              0.2222222222222222,
              "#7201a8"
             ],
             [
              0.3333333333333333,
              "#9c179e"
             ],
             [
              0.4444444444444444,
              "#bd3786"
             ],
             [
              0.5555555555555556,
              "#d8576b"
             ],
             [
              0.6666666666666666,
              "#ed7953"
             ],
             [
              0.7777777777777778,
              "#fb9f3a"
             ],
             [
              0.8888888888888888,
              "#fdca26"
             ],
             [
              1,
              "#f0f921"
             ]
            ],
            "type": "histogram2dcontour"
           }
          ],
          "mesh3d": [
           {
            "colorbar": {
             "outlinewidth": 0,
             "ticks": ""
            },
            "type": "mesh3d"
           }
          ],
          "parcoords": [
           {
            "line": {
             "colorbar": {
              "outlinewidth": 0,
              "ticks": ""
             }
            },
            "type": "parcoords"
           }
          ],
          "pie": [
           {
            "automargin": true,
            "type": "pie"
           }
          ],
          "scatter": [
           {
            "fillpattern": {
             "fillmode": "overlay",
             "size": 10,
             "solidity": 0.2
            },
            "type": "scatter"
           }
          ],
          "scatter3d": [
           {
            "line": {
             "colorbar": {
              "outlinewidth": 0,
              "ticks": ""
             }
            },
            "marker": {
             "colorbar": {
              "outlinewidth": 0,
              "ticks": ""
             }
            },
            "type": "scatter3d"
           }
          ],
          "scattercarpet": [
           {
            "marker": {
             "colorbar": {
              "outlinewidth": 0,
              "ticks": ""
             }
            },
            "type": "scattercarpet"
           }
          ],
          "scattergeo": [
           {
            "marker": {
             "colorbar": {
              "outlinewidth": 0,
              "ticks": ""
             }
            },
            "type": "scattergeo"
           }
          ],
          "scattergl": [
           {
            "marker": {
             "colorbar": {
              "outlinewidth": 0,
              "ticks": ""
             }
            },
            "type": "scattergl"
           }
          ],
          "scattermapbox": [
           {
            "marker": {
             "colorbar": {
              "outlinewidth": 0,
              "ticks": ""
             }
            },
            "type": "scattermapbox"
           }
          ],
          "scatterpolar": [
           {
            "marker": {
             "colorbar": {
              "outlinewidth": 0,
              "ticks": ""
             }
            },
            "type": "scatterpolar"
           }
          ],
          "scatterpolargl": [
           {
            "marker": {
             "colorbar": {
              "outlinewidth": 0,
              "ticks": ""
             }
            },
            "type": "scatterpolargl"
           }
          ],
          "scatterternary": [
           {
            "marker": {
             "colorbar": {
              "outlinewidth": 0,
              "ticks": ""
             }
            },
            "type": "scatterternary"
           }
          ],
          "surface": [
           {
            "colorbar": {
             "outlinewidth": 0,
             "ticks": ""
            },
            "colorscale": [
             [
              0,
              "#0d0887"
             ],
             [
              0.1111111111111111,
              "#46039f"
             ],
             [
              0.2222222222222222,
              "#7201a8"
             ],
             [
              0.3333333333333333,
              "#9c179e"
             ],
             [
              0.4444444444444444,
              "#bd3786"
             ],
             [
              0.5555555555555556,
              "#d8576b"
             ],
             [
              0.6666666666666666,
              "#ed7953"
             ],
             [
              0.7777777777777778,
              "#fb9f3a"
             ],
             [
              0.8888888888888888,
              "#fdca26"
             ],
             [
              1,
              "#f0f921"
             ]
            ],
            "type": "surface"
           }
          ],
          "table": [
           {
            "cells": {
             "fill": {
              "color": "#EBF0F8"
             },
             "line": {
              "color": "white"
             }
            },
            "header": {
             "fill": {
              "color": "#C8D4E3"
             },
             "line": {
              "color": "white"
             }
            },
            "type": "table"
           }
          ]
         },
         "layout": {
          "annotationdefaults": {
           "arrowcolor": "#2a3f5f",
           "arrowhead": 0,
           "arrowwidth": 1
          },
          "autotypenumbers": "strict",
          "coloraxis": {
           "colorbar": {
            "outlinewidth": 0,
            "ticks": ""
           }
          },
          "colorscale": {
           "diverging": [
            [
             0,
             "#8e0152"
            ],
            [
             0.1,
             "#c51b7d"
            ],
            [
             0.2,
             "#de77ae"
            ],
            [
             0.3,
             "#f1b6da"
            ],
            [
             0.4,
             "#fde0ef"
            ],
            [
             0.5,
             "#f7f7f7"
            ],
            [
             0.6,
             "#e6f5d0"
            ],
            [
             0.7,
             "#b8e186"
            ],
            [
             0.8,
             "#7fbc41"
            ],
            [
             0.9,
             "#4d9221"
            ],
            [
             1,
             "#276419"
            ]
           ],
           "sequential": [
            [
             0,
             "#0d0887"
            ],
            [
             0.1111111111111111,
             "#46039f"
            ],
            [
             0.2222222222222222,
             "#7201a8"
            ],
            [
             0.3333333333333333,
             "#9c179e"
            ],
            [
             0.4444444444444444,
             "#bd3786"
            ],
            [
             0.5555555555555556,
             "#d8576b"
            ],
            [
             0.6666666666666666,
             "#ed7953"
            ],
            [
             0.7777777777777778,
             "#fb9f3a"
            ],
            [
             0.8888888888888888,
             "#fdca26"
            ],
            [
             1,
             "#f0f921"
            ]
           ],
           "sequentialminus": [
            [
             0,
             "#0d0887"
            ],
            [
             0.1111111111111111,
             "#46039f"
            ],
            [
             0.2222222222222222,
             "#7201a8"
            ],
            [
             0.3333333333333333,
             "#9c179e"
            ],
            [
             0.4444444444444444,
             "#bd3786"
            ],
            [
             0.5555555555555556,
             "#d8576b"
            ],
            [
             0.6666666666666666,
             "#ed7953"
            ],
            [
             0.7777777777777778,
             "#fb9f3a"
            ],
            [
             0.8888888888888888,
             "#fdca26"
            ],
            [
             1,
             "#f0f921"
            ]
           ]
          },
          "colorway": [
           "#636efa",
           "#EF553B",
           "#00cc96",
           "#ab63fa",
           "#FFA15A",
           "#19d3f3",
           "#FF6692",
           "#B6E880",
           "#FF97FF",
           "#FECB52"
          ],
          "font": {
           "color": "#2a3f5f"
          },
          "geo": {
           "bgcolor": "white",
           "lakecolor": "white",
           "landcolor": "#E5ECF6",
           "showlakes": true,
           "showland": true,
           "subunitcolor": "white"
          },
          "hoverlabel": {
           "align": "left"
          },
          "hovermode": "closest",
          "mapbox": {
           "style": "light"
          },
          "paper_bgcolor": "white",
          "plot_bgcolor": "#E5ECF6",
          "polar": {
           "angularaxis": {
            "gridcolor": "white",
            "linecolor": "white",
            "ticks": ""
           },
           "bgcolor": "#E5ECF6",
           "radialaxis": {
            "gridcolor": "white",
            "linecolor": "white",
            "ticks": ""
           }
          },
          "scene": {
           "xaxis": {
            "backgroundcolor": "#E5ECF6",
            "gridcolor": "white",
            "gridwidth": 2,
            "linecolor": "white",
            "showbackground": true,
            "ticks": "",
            "zerolinecolor": "white"
           },
           "yaxis": {
            "backgroundcolor": "#E5ECF6",
            "gridcolor": "white",
            "gridwidth": 2,
            "linecolor": "white",
            "showbackground": true,
            "ticks": "",
            "zerolinecolor": "white"
           },
           "zaxis": {
            "backgroundcolor": "#E5ECF6",
            "gridcolor": "white",
            "gridwidth": 2,
            "linecolor": "white",
            "showbackground": true,
            "ticks": "",
            "zerolinecolor": "white"
           }
          },
          "shapedefaults": {
           "line": {
            "color": "#2a3f5f"
           }
          },
          "ternary": {
           "aaxis": {
            "gridcolor": "white",
            "linecolor": "white",
            "ticks": ""
           },
           "baxis": {
            "gridcolor": "white",
            "linecolor": "white",
            "ticks": ""
           },
           "bgcolor": "#E5ECF6",
           "caxis": {
            "gridcolor": "white",
            "linecolor": "white",
            "ticks": ""
           }
          },
          "title": {
           "x": 0.05
          },
          "xaxis": {
           "automargin": true,
           "gridcolor": "white",
           "linecolor": "white",
           "ticks": "",
           "title": {
            "standoff": 15
           },
           "zerolinecolor": "white",
           "zerolinewidth": 2
          },
          "yaxis": {
           "automargin": true,
           "gridcolor": "white",
           "linecolor": "white",
           "ticks": "",
           "title": {
            "standoff": 15
           },
           "zerolinecolor": "white",
           "zerolinewidth": 2
          }
         }
        },
        "title": {
         "text": "Pathway to LCOE reduction in 2030 by LCOE parameter"
        },
        "yaxis": {
         "tickfont": {
          "size": 14
         },
         "title": {
          "font": {
           "size": 16
          },
          "text": "LCOE (2015 $/MWh)"
         }
        }
       }
      },
      "text/html": [
       "<div>                            <div id=\"d25cdf49-c358-427c-a275-911bed456b98\" class=\"plotly-graph-div\" style=\"height:525px; width:100%;\"></div>            <script type=\"text/javascript\">                require([\"plotly\"], function(Plotly) {                    window.PLOTLYENV=window.PLOTLYENV || {};                                    if (document.getElementById(\"d25cdf49-c358-427c-a275-911bed456b98\")) {                    Plotly.newPlot(                        \"d25cdf49-c358-427c-a275-911bed456b98\",                        [{\"measure\":[\"relative\",\"relative\",\"relative\",\"relative\",\"relative\",\"total\"],\"name\":\"20\",\"orientation\":\"v\",\"text\":[\"56\",\"-8\",\"-20\",\"-4\",\"-1\",\"23\"],\"textposition\":\"outside\",\"x\":[\"FY 2016 GPRA\",\"CapEx\",\"AEP\",\"OpEx\",\"Financing\",\"FY 2030 Target\"],\"y\":[56,-8,-20,-4,-1,23],\"type\":\"waterfall\"}],                        {\"template\":{\"data\":{\"histogram2dcontour\":[{\"type\":\"histogram2dcontour\",\"colorbar\":{\"outlinewidth\":0,\"ticks\":\"\"},\"colorscale\":[[0.0,\"#0d0887\"],[0.1111111111111111,\"#46039f\"],[0.2222222222222222,\"#7201a8\"],[0.3333333333333333,\"#9c179e\"],[0.4444444444444444,\"#bd3786\"],[0.5555555555555556,\"#d8576b\"],[0.6666666666666666,\"#ed7953\"],[0.7777777777777778,\"#fb9f3a\"],[0.8888888888888888,\"#fdca26\"],[1.0,\"#f0f921\"]]}],\"choropleth\":[{\"type\":\"choropleth\",\"colorbar\":{\"outlinewidth\":0,\"ticks\":\"\"}}],\"histogram2d\":[{\"type\":\"histogram2d\",\"colorbar\":{\"outlinewidth\":0,\"ticks\":\"\"},\"colorscale\":[[0.0,\"#0d0887\"],[0.1111111111111111,\"#46039f\"],[0.2222222222222222,\"#7201a8\"],[0.3333333333333333,\"#9c179e\"],[0.4444444444444444,\"#bd3786\"],[0.5555555555555556,\"#d8576b\"],[0.6666666666666666,\"#ed7953\"],[0.7777777777777778,\"#fb9f3a\"],[0.8888888888888888,\"#fdca26\"],[1.0,\"#f0f921\"]]}],\"heatmap\":[{\"type\":\"heatmap\",\"colorbar\":{\"outlinewidth\":0,\"ticks\":\"\"},\"colorscale\":[[0.0,\"#0d0887\"],[0.1111111111111111,\"#46039f\"],[0.2222222222222222,\"#7201a8\"],[0.3333333333333333,\"#9c179e\"],[0.4444444444444444,\"#bd3786\"],[0.5555555555555556,\"#d8576b\"],[0.6666666666666666,\"#ed7953\"],[0.7777777777777778,\"#fb9f3a\"],[0.8888888888888888,\"#fdca26\"],[1.0,\"#f0f921\"]]}],\"heatmapgl\":[{\"type\":\"heatmapgl\",\"colorbar\":{\"outlinewidth\":0,\"ticks\":\"\"},\"colorscale\":[[0.0,\"#0d0887\"],[0.1111111111111111,\"#46039f\"],[0.2222222222222222,\"#7201a8\"],[0.3333333333333333,\"#9c179e\"],[0.4444444444444444,\"#bd3786\"],[0.5555555555555556,\"#d8576b\"],[0.6666666666666666,\"#ed7953\"],[0.7777777777777778,\"#fb9f3a\"],[0.8888888888888888,\"#fdca26\"],[1.0,\"#f0f921\"]]}],\"contourcarpet\":[{\"type\":\"contourcarpet\",\"colorbar\":{\"outlinewidth\":0,\"ticks\":\"\"}}],\"contour\":[{\"type\":\"contour\",\"colorbar\":{\"outlinewidth\":0,\"ticks\":\"\"},\"colorscale\":[[0.0,\"#0d0887\"],[0.1111111111111111,\"#46039f\"],[0.2222222222222222,\"#7201a8\"],[0.3333333333333333,\"#9c179e\"],[0.4444444444444444,\"#bd3786\"],[0.5555555555555556,\"#d8576b\"],[0.6666666666666666,\"#ed7953\"],[0.7777777777777778,\"#fb9f3a\"],[0.8888888888888888,\"#fdca26\"],[1.0,\"#f0f921\"]]}],\"surface\":[{\"type\":\"surface\",\"colorbar\":{\"outlinewidth\":0,\"ticks\":\"\"},\"colorscale\":[[0.0,\"#0d0887\"],[0.1111111111111111,\"#46039f\"],[0.2222222222222222,\"#7201a8\"],[0.3333333333333333,\"#9c179e\"],[0.4444444444444444,\"#bd3786\"],[0.5555555555555556,\"#d8576b\"],[0.6666666666666666,\"#ed7953\"],[0.7777777777777778,\"#fb9f3a\"],[0.8888888888888888,\"#fdca26\"],[1.0,\"#f0f921\"]]}],\"mesh3d\":[{\"type\":\"mesh3d\",\"colorbar\":{\"outlinewidth\":0,\"ticks\":\"\"}}],\"scatter\":[{\"fillpattern\":{\"fillmode\":\"overlay\",\"size\":10,\"solidity\":0.2},\"type\":\"scatter\"}],\"parcoords\":[{\"type\":\"parcoords\",\"line\":{\"colorbar\":{\"outlinewidth\":0,\"ticks\":\"\"}}}],\"scatterpolargl\":[{\"type\":\"scatterpolargl\",\"marker\":{\"colorbar\":{\"outlinewidth\":0,\"ticks\":\"\"}}}],\"bar\":[{\"error_x\":{\"color\":\"#2a3f5f\"},\"error_y\":{\"color\":\"#2a3f5f\"},\"marker\":{\"line\":{\"color\":\"#E5ECF6\",\"width\":0.5},\"pattern\":{\"fillmode\":\"overlay\",\"size\":10,\"solidity\":0.2}},\"type\":\"bar\"}],\"scattergeo\":[{\"type\":\"scattergeo\",\"marker\":{\"colorbar\":{\"outlinewidth\":0,\"ticks\":\"\"}}}],\"scatterpolar\":[{\"type\":\"scatterpolar\",\"marker\":{\"colorbar\":{\"outlinewidth\":0,\"ticks\":\"\"}}}],\"histogram\":[{\"marker\":{\"pattern\":{\"fillmode\":\"overlay\",\"size\":10,\"solidity\":0.2}},\"type\":\"histogram\"}],\"scattergl\":[{\"type\":\"scattergl\",\"marker\":{\"colorbar\":{\"outlinewidth\":0,\"ticks\":\"\"}}}],\"scatter3d\":[{\"type\":\"scatter3d\",\"line\":{\"colorbar\":{\"outlinewidth\":0,\"ticks\":\"\"}},\"marker\":{\"colorbar\":{\"outlinewidth\":0,\"ticks\":\"\"}}}],\"scattermapbox\":[{\"type\":\"scattermapbox\",\"marker\":{\"colorbar\":{\"outlinewidth\":0,\"ticks\":\"\"}}}],\"scatterternary\":[{\"type\":\"scatterternary\",\"marker\":{\"colorbar\":{\"outlinewidth\":0,\"ticks\":\"\"}}}],\"scattercarpet\":[{\"type\":\"scattercarpet\",\"marker\":{\"colorbar\":{\"outlinewidth\":0,\"ticks\":\"\"}}}],\"carpet\":[{\"aaxis\":{\"endlinecolor\":\"#2a3f5f\",\"gridcolor\":\"white\",\"linecolor\":\"white\",\"minorgridcolor\":\"white\",\"startlinecolor\":\"#2a3f5f\"},\"baxis\":{\"endlinecolor\":\"#2a3f5f\",\"gridcolor\":\"white\",\"linecolor\":\"white\",\"minorgridcolor\":\"white\",\"startlinecolor\":\"#2a3f5f\"},\"type\":\"carpet\"}],\"table\":[{\"cells\":{\"fill\":{\"color\":\"#EBF0F8\"},\"line\":{\"color\":\"white\"}},\"header\":{\"fill\":{\"color\":\"#C8D4E3\"},\"line\":{\"color\":\"white\"}},\"type\":\"table\"}],\"barpolar\":[{\"marker\":{\"line\":{\"color\":\"#E5ECF6\",\"width\":0.5},\"pattern\":{\"fillmode\":\"overlay\",\"size\":10,\"solidity\":0.2}},\"type\":\"barpolar\"}],\"pie\":[{\"automargin\":true,\"type\":\"pie\"}]},\"layout\":{\"autotypenumbers\":\"strict\",\"colorway\":[\"#636efa\",\"#EF553B\",\"#00cc96\",\"#ab63fa\",\"#FFA15A\",\"#19d3f3\",\"#FF6692\",\"#B6E880\",\"#FF97FF\",\"#FECB52\"],\"font\":{\"color\":\"#2a3f5f\"},\"hovermode\":\"closest\",\"hoverlabel\":{\"align\":\"left\"},\"paper_bgcolor\":\"white\",\"plot_bgcolor\":\"#E5ECF6\",\"polar\":{\"bgcolor\":\"#E5ECF6\",\"angularaxis\":{\"gridcolor\":\"white\",\"linecolor\":\"white\",\"ticks\":\"\"},\"radialaxis\":{\"gridcolor\":\"white\",\"linecolor\":\"white\",\"ticks\":\"\"}},\"ternary\":{\"bgcolor\":\"#E5ECF6\",\"aaxis\":{\"gridcolor\":\"white\",\"linecolor\":\"white\",\"ticks\":\"\"},\"baxis\":{\"gridcolor\":\"white\",\"linecolor\":\"white\",\"ticks\":\"\"},\"caxis\":{\"gridcolor\":\"white\",\"linecolor\":\"white\",\"ticks\":\"\"}},\"coloraxis\":{\"colorbar\":{\"outlinewidth\":0,\"ticks\":\"\"}},\"colorscale\":{\"sequential\":[[0.0,\"#0d0887\"],[0.1111111111111111,\"#46039f\"],[0.2222222222222222,\"#7201a8\"],[0.3333333333333333,\"#9c179e\"],[0.4444444444444444,\"#bd3786\"],[0.5555555555555556,\"#d8576b\"],[0.6666666666666666,\"#ed7953\"],[0.7777777777777778,\"#fb9f3a\"],[0.8888888888888888,\"#fdca26\"],[1.0,\"#f0f921\"]],\"sequentialminus\":[[0.0,\"#0d0887\"],[0.1111111111111111,\"#46039f\"],[0.2222222222222222,\"#7201a8\"],[0.3333333333333333,\"#9c179e\"],[0.4444444444444444,\"#bd3786\"],[0.5555555555555556,\"#d8576b\"],[0.6666666666666666,\"#ed7953\"],[0.7777777777777778,\"#fb9f3a\"],[0.8888888888888888,\"#fdca26\"],[1.0,\"#f0f921\"]],\"diverging\":[[0,\"#8e0152\"],[0.1,\"#c51b7d\"],[0.2,\"#de77ae\"],[0.3,\"#f1b6da\"],[0.4,\"#fde0ef\"],[0.5,\"#f7f7f7\"],[0.6,\"#e6f5d0\"],[0.7,\"#b8e186\"],[0.8,\"#7fbc41\"],[0.9,\"#4d9221\"],[1,\"#276419\"]]},\"xaxis\":{\"gridcolor\":\"white\",\"linecolor\":\"white\",\"ticks\":\"\",\"title\":{\"standoff\":15},\"zerolinecolor\":\"white\",\"automargin\":true,\"zerolinewidth\":2},\"yaxis\":{\"gridcolor\":\"white\",\"linecolor\":\"white\",\"ticks\":\"\",\"title\":{\"standoff\":15},\"zerolinecolor\":\"white\",\"automargin\":true,\"zerolinewidth\":2},\"scene\":{\"xaxis\":{\"backgroundcolor\":\"#E5ECF6\",\"gridcolor\":\"white\",\"linecolor\":\"white\",\"showbackground\":true,\"ticks\":\"\",\"zerolinecolor\":\"white\",\"gridwidth\":2},\"yaxis\":{\"backgroundcolor\":\"#E5ECF6\",\"gridcolor\":\"white\",\"linecolor\":\"white\",\"showbackground\":true,\"ticks\":\"\",\"zerolinecolor\":\"white\",\"gridwidth\":2},\"zaxis\":{\"backgroundcolor\":\"#E5ECF6\",\"gridcolor\":\"white\",\"linecolor\":\"white\",\"showbackground\":true,\"ticks\":\"\",\"zerolinecolor\":\"white\",\"gridwidth\":2}},\"shapedefaults\":{\"line\":{\"color\":\"#2a3f5f\"}},\"annotationdefaults\":{\"arrowcolor\":\"#2a3f5f\",\"arrowhead\":0,\"arrowwidth\":1},\"geo\":{\"bgcolor\":\"white\",\"landcolor\":\"#E5ECF6\",\"subunitcolor\":\"white\",\"showland\":true,\"showlakes\":true,\"lakecolor\":\"white\"},\"title\":{\"x\":0.05},\"mapbox\":{\"style\":\"light\"}}},\"yaxis\":{\"title\":{\"text\":\"LCOE (2015 $/MWh)\",\"font\":{\"size\":16}},\"tickfont\":{\"size\":14}},\"title\":{\"text\":\"Pathway to LCOE reduction in 2030 by LCOE parameter\"},\"showlegend\":false,\"paper_bgcolor\":\"white\",\"plot_bgcolor\":\"white\"},                        {\"responsive\": true}                    ).then(function(){\n",
       "                            \n",
       "var gd = document.getElementById('d25cdf49-c358-427c-a275-911bed456b98');\n",
       "var x = new MutationObserver(function (mutations, observer) {{\n",
       "        var display = window.getComputedStyle(gd).display;\n",
       "        if (!display || display === 'none') {{\n",
       "            console.log([gd, 'removed!']);\n",
       "            Plotly.purge(gd);\n",
       "            observer.disconnect();\n",
       "        }}\n",
       "}});\n",
       "\n",
       "// Listen for the removal of the full notebook cells\n",
       "var notebookContainer = gd.closest('#notebook-container');\n",
       "if (notebookContainer) {{\n",
       "    x.observe(notebookContainer, {childList: true});\n",
       "}}\n",
       "\n",
       "// Listen for the clearing of the current output cell\n",
       "var outputEl = gd.closest('.output');\n",
       "if (outputEl) {{\n",
       "    x.observe(outputEl, {childList: true});\n",
       "}}\n",
       "\n",
       "                        })                };                });            </script>        </div>"
      ]
     },
     "metadata": {},
     "output_type": "display_data"
    }
   ],
   "source": [
    "# # Sample waterfall obtained from https://www.machinelearningplus.com/waterfall-plot-in-python/\n",
    "# import pandas as pd\n",
    "# import numpy as np\n",
    "# import waterfall_chart\n",
    "# import matplotlib.pyplot as plt\n",
    "# %matplotlib inline\n",
    "# plt.rcParams.update({'figure.figsize':(7.5,5), 'figure.dpi':100})\n",
    "\n",
    "# a = ['FY 2016 GPRA','CapEx','AEP','OpEx','Financing']\n",
    "# b = [56,-8,-20,-4,-1]\n",
    "# waterfall_chart.plot(a, b);\n",
    "\n",
    "import plotly.graph_objects as go\n",
    "\n",
    "initial_target = 56\n",
    "capex_target = -8\n",
    "aep_target = -20\n",
    "opex_target = -4\n",
    "financing_target = -1\n",
    "final_target = initial_target + capex_target + aep_target + opex_target + financing_target\n",
    "\n",
    "fig = go.Figure(go.Waterfall(\n",
    "    name = \"20\", \n",
    "    orientation = \"v\",\n",
    "    measure = [\"relative\", \"relative\", \"relative\", \"relative\", \"relative\", \"total\"],\n",
    "    x = ['FY 2016 GPRA','CapEx','AEP','OpEx','Financing', \"FY 2030 Target\"],\n",
    "    textposition = \"outside\",\n",
    "    text = [initial_target, capex_target, aep_target, opex_target, financing_target, final_target],\n",
    "    y = [+56,-8,-20,-4,-1, final_target],\n",
    "#     connector = {\"line\":{\"color\":\"rgb(63, 63, 63)\"}},\n",
    "))\n",
    "\n",
    "\n",
    "fig.update_layout(\n",
    "        title = \"Pathway to LCOE reduction in 2030 by LCOE parameter\",\n",
    "        showlegend = False,\n",
    "        paper_bgcolor='white',\n",
    "        plot_bgcolor='white',\n",
    "        yaxis=dict(\n",
    "            title='LCOE (2015 $/MWh)',\n",
    "            titlefont_size=16,\n",
    "            tickfont_size=14),\n",
    ")\n",
    "# fig.update(layout_showlegend=False)\n",
    "fig.show()\n"
   ]
  },
  {
   "cell_type": "markdown",
   "id": "f7c2eccf",
   "metadata": {},
   "source": [
    "<br/><br/>\n",
    "# <center> Figure 7. Land-based-wind GPRA cost trajectories for LCOE (in 2015 USD)"
   ]
  },
  {
   "cell_type": "code",
   "execution_count": 168,
   "id": "761da951",
   "metadata": {},
   "outputs": [
    {
     "data": {
      "image/png": "[encoded data removed]",
      "text/plain": [
       "<Figure size 1800x1200 with 1 Axes>"
      ]
     },
     "metadata": {
      "needs_background": "light"
     },
     "output_type": "display_data"
    }
   ],
   "source": [
    "import matplotlib.pyplot as plt\n",
    "%matplotlib inline\n",
    "\n",
    "plt.rcParams['figure.dpi'] = 300\n",
    "plt.rcParams['savefig.dpi'] = 300\n",
    "\n",
    "gpra_y = [56, 23]\n",
    "gpra_x = [2016, 2030]\n",
    "\n",
    "actuals_y = [56, 52, 48, 40, 34, 31]\n",
    "actuals_x = [2016, 2017, 2018, 2019, 2020, 2021]\n",
    "\n",
    "plt.plot(gpra_x, gpra_y, \n",
    "         linestyle='-', \n",
    "         marker='o', \n",
    "         color='skyblue', \n",
    "         markerfacecolor='black', \n",
    "         markeredgecolor='black', \n",
    "         label='GRPA Trajectory')\n",
    "\n",
    "plt.plot(actuals_x, \n",
    "         actuals_y, \n",
    "         linestyle='-', \n",
    "         marker='d', \n",
    "         markerfacecolor='black', \n",
    "         markeredgecolor='black', \n",
    "         color='green', \n",
    "         label='GRPA Trajectory')\n",
    "\n",
    "max_y = [*gpra_y, *actuals_y]\n",
    "\n",
    "plt.xlabel('Fiscal Year', fontweight='bold')\n",
    "\n",
    "for index in range(len(actuals_x)):\n",
    "  label = \"{:.1f}\".format(actuals_y[index])\n",
    "  plt.annotate(label, \n",
    "                 (actuals_x[index],actuals_y[index]), \n",
    "                 textcoords=\"offset points\", \n",
    "                 xytext=(0,-15), \n",
    "                 ha='center', \n",
    "                 size=8) \n",
    "\n",
    "for index in range(len(gpra_x)):\n",
    "  label = \"{:.1f}\".format(gpra_y[index])\n",
    "  plt.annotate(label, \n",
    "                 (gpra_x[index],gpra_y[index]), \n",
    "                 textcoords=\"offset points\", \n",
    "                 xytext=(0,10), \n",
    "                 ha='center', \n",
    "                 size=8) \n",
    "\n",
    "plt.ylim([0, (max(max_y) + 5)])\n",
    "plt.show()"
   ]
  },
  {
   "cell_type": "code",
   "execution_count": null,
   "id": "4f2d657b",
   "metadata": {},
   "outputs": [],
   "source": []
  }
 ],
 "metadata": {
  "kernelspec": {
   "display_name": "Python 3 (ipykernel)",
   "language": "python",
   "name": "python3"
  },
  "language_info": {
   "codemirror_mode": {
    "name": "ipython",
    "version": 3
   },
   "file_extension": ".py",
   "mimetype": "text/x-python",
   "name": "python",
   "nbconvert_exporter": "python",
   "pygments_lexer": "ipython3",
   "version": "3.7.9"
  }
 },
 "nbformat": 4,
 "nbformat_minor": 5
}
